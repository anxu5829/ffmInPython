{
 "cells": [
  {
   "cell_type": "markdown",
   "metadata": {},
   "source": [
    "# FFM 尝试"
   ]
  },
  {
   "cell_type": "markdown",
   "metadata": {},
   "source": [
    "## 数据的重编码"
   ]
  },
  {
   "cell_type": "markdown",
   "metadata": {},
   "source": [
    "### 创建数据集"
   ]
  },
  {
   "cell_type": "code",
   "execution_count": 1,
   "metadata": {
    "collapsed": true
   },
   "outputs": [],
   "source": [
    "import pandas as pd\n",
    "import numpy as np\n",
    "np.set_printoptions(precision=3)\n",
    "pd.set_option( \"display.precision\",3)"
   ]
  },
  {
   "cell_type": "code",
   "execution_count": 3,
   "metadata": {
    "collapsed": true
   },
   "outputs": [],
   "source": [
    "import mxnet as mx"
   ]
  },
  {
   "cell_type": "code",
   "execution_count": 2,
   "metadata": {},
   "outputs": [
    {
     "data": {
      "text/html": [
       "<div>\n",
       "<style>\n",
       "    .dataframe thead tr:only-child th {\n",
       "        text-align: right;\n",
       "    }\n",
       "\n",
       "    .dataframe thead th {\n",
       "        text-align: left;\n",
       "    }\n",
       "\n",
       "    .dataframe tbody tr th {\n",
       "        vertical-align: top;\n",
       "    }\n",
       "</style>\n",
       "<table border=\"1\" class=\"dataframe\">\n",
       "  <thead>\n",
       "    <tr style=\"text-align: right;\">\n",
       "      <th></th>\n",
       "      <th>A</th>\n",
       "      <th>B</th>\n",
       "      <th>C</th>\n",
       "      <th>y</th>\n",
       "    </tr>\n",
       "  </thead>\n",
       "  <tbody>\n",
       "    <tr>\n",
       "      <th>0</th>\n",
       "      <td>a1</td>\n",
       "      <td>1</td>\n",
       "      <td>3</td>\n",
       "      <td>0</td>\n",
       "    </tr>\n",
       "    <tr>\n",
       "      <th>1</th>\n",
       "      <td>a2</td>\n",
       "      <td>2</td>\n",
       "      <td>2</td>\n",
       "      <td>0</td>\n",
       "    </tr>\n",
       "    <tr>\n",
       "      <th>2</th>\n",
       "      <td>a1</td>\n",
       "      <td>3</td>\n",
       "      <td>4</td>\n",
       "      <td>1</td>\n",
       "    </tr>\n",
       "  </tbody>\n",
       "</table>\n",
       "</div>"
      ],
      "text/plain": [
       "    A  B  C  y\n",
       "0  a1  1  3  0\n",
       "1  a2  2  2  0\n",
       "2  a1  3  4  1"
      ]
     },
     "execution_count": 2,
     "metadata": {},
     "output_type": "execute_result"
    }
   ],
   "source": [
    "data = pd.DataFrame({'A':['a1','a2','a1'],'B':[1,2,3],'C':[3,2,4],'y':[0,0,1]})\n",
    "data"
   ]
  },
  {
   "cell_type": "code",
   "execution_count": 3,
   "metadata": {},
   "outputs": [
    {
     "data": {
      "text/plain": [
       "0    0\n",
       "1    0\n",
       "2    1\n",
       "Name: y, dtype: int64"
      ]
     },
     "execution_count": 3,
     "metadata": {},
     "output_type": "execute_result"
    }
   ],
   "source": [
    "ydata = data['y']\n",
    "ydata"
   ]
  },
  {
   "cell_type": "code",
   "execution_count": 4,
   "metadata": {
    "collapsed": true
   },
   "outputs": [],
   "source": [
    "xdata = data.drop( 'y',axis = 1).copy()\n"
   ]
  },
  {
   "cell_type": "code",
   "execution_count": 5,
   "metadata": {},
   "outputs": [
    {
     "data": {
      "text/html": [
       "<div>\n",
       "<style>\n",
       "    .dataframe thead tr:only-child th {\n",
       "        text-align: right;\n",
       "    }\n",
       "\n",
       "    .dataframe thead th {\n",
       "        text-align: left;\n",
       "    }\n",
       "\n",
       "    .dataframe tbody tr th {\n",
       "        vertical-align: top;\n",
       "    }\n",
       "</style>\n",
       "<table border=\"1\" class=\"dataframe\">\n",
       "  <thead>\n",
       "    <tr style=\"text-align: right;\">\n",
       "      <th></th>\n",
       "      <th>A</th>\n",
       "      <th>B</th>\n",
       "      <th>C</th>\n",
       "    </tr>\n",
       "  </thead>\n",
       "  <tbody>\n",
       "    <tr>\n",
       "      <th>0</th>\n",
       "      <td>a1</td>\n",
       "      <td>1</td>\n",
       "      <td>3</td>\n",
       "    </tr>\n",
       "    <tr>\n",
       "      <th>1</th>\n",
       "      <td>a2</td>\n",
       "      <td>2</td>\n",
       "      <td>2</td>\n",
       "    </tr>\n",
       "    <tr>\n",
       "      <th>2</th>\n",
       "      <td>a1</td>\n",
       "      <td>3</td>\n",
       "      <td>4</td>\n",
       "    </tr>\n",
       "  </tbody>\n",
       "</table>\n",
       "</div>"
      ],
      "text/plain": [
       "    A  B  C\n",
       "0  a1  1  3\n",
       "1  a2  2  2\n",
       "2  a1  3  4"
      ]
     },
     "execution_count": 5,
     "metadata": {},
     "output_type": "execute_result"
    }
   ],
   "source": [
    "xdata"
   ]
  },
  {
   "cell_type": "markdown",
   "metadata": {},
   "source": [
    "### 转换部分类型为分类变量"
   ]
  },
  {
   "cell_type": "code",
   "execution_count": 6,
   "metadata": {
    "collapsed": true
   },
   "outputs": [],
   "source": [
    "xdata.B = xdata.B.astype('category')"
   ]
  },
  {
   "cell_type": "markdown",
   "metadata": {},
   "source": [
    "### 转换成稀疏形式"
   ]
  },
  {
   "cell_type": "code",
   "execution_count": 7,
   "metadata": {
    "collapsed": true
   },
   "outputs": [],
   "source": [
    "# 拿到离散变量的field name\n",
    "categories = ['A','B']\n",
    "continues  = ['C']"
   ]
  },
  {
   "cell_type": "code",
   "execution_count": 8,
   "metadata": {},
   "outputs": [
    {
     "name": "stdout",
     "output_type": "stream",
     "text": [
      "   C  A:a1  A:a2  B:1  B:2  B:3\n",
      "0  3     1     0    1    0    0\n",
      "1  2     0     1    0    1    0\n",
      "2  4     1     0    0    0    1\n"
     ]
    }
   ],
   "source": [
    "xdata_trnsf = pd.get_dummies(xdata,prefix=categories,prefix_sep = \":\",sparse = True)\n",
    "print(xdata_trnsf)"
   ]
  },
  {
   "cell_type": "code",
   "execution_count": 9,
   "metadata": {
    "collapsed": true
   },
   "outputs": [],
   "source": [
    "# 拿到一级label和二级label,重构索引\n",
    "import re\n",
    "label_v1 = [ label.split(':')[0] for label in xdata_trnsf.columns.tolist()]\n",
    "label_v2 = xdata_trnsf.columns.tolist()"
   ]
  },
  {
   "cell_type": "code",
   "execution_count": 10,
   "metadata": {},
   "outputs": [
    {
     "data": {
      "text/html": [
       "<div>\n",
       "<style>\n",
       "    .dataframe thead tr:only-child th {\n",
       "        text-align: right;\n",
       "    }\n",
       "\n",
       "    .dataframe thead th {\n",
       "        text-align: left;\n",
       "    }\n",
       "\n",
       "    .dataframe tbody tr th {\n",
       "        vertical-align: top;\n",
       "    }\n",
       "</style>\n",
       "<table border=\"1\" class=\"dataframe\">\n",
       "  <thead>\n",
       "    <tr>\n",
       "      <th>field_id</th>\n",
       "      <th>C</th>\n",
       "      <th colspan=\"2\" halign=\"left\">A</th>\n",
       "      <th colspan=\"3\" halign=\"left\">B</th>\n",
       "    </tr>\n",
       "    <tr>\n",
       "      <th>index_id</th>\n",
       "      <th>C</th>\n",
       "      <th>A:a1</th>\n",
       "      <th>A:a2</th>\n",
       "      <th>B:1</th>\n",
       "      <th>B:2</th>\n",
       "      <th>B:3</th>\n",
       "    </tr>\n",
       "  </thead>\n",
       "  <tbody>\n",
       "    <tr>\n",
       "      <th>0</th>\n",
       "      <td>3</td>\n",
       "      <td>1</td>\n",
       "      <td>0</td>\n",
       "      <td>1</td>\n",
       "      <td>0</td>\n",
       "      <td>0</td>\n",
       "    </tr>\n",
       "    <tr>\n",
       "      <th>1</th>\n",
       "      <td>2</td>\n",
       "      <td>0</td>\n",
       "      <td>1</td>\n",
       "      <td>0</td>\n",
       "      <td>1</td>\n",
       "      <td>0</td>\n",
       "    </tr>\n",
       "    <tr>\n",
       "      <th>2</th>\n",
       "      <td>4</td>\n",
       "      <td>1</td>\n",
       "      <td>0</td>\n",
       "      <td>0</td>\n",
       "      <td>0</td>\n",
       "      <td>1</td>\n",
       "    </tr>\n",
       "  </tbody>\n",
       "</table>\n",
       "</div>"
      ],
      "text/plain": [
       "field_id  C    A        B        \n",
       "index_id  C A:a1 A:a2 B:1 B:2 B:3\n",
       "0         3    1    0   1   0   0\n",
       "1         2    0    1   0   1   0\n",
       "2         4    1    0   0   0   1"
      ]
     },
     "execution_count": 10,
     "metadata": {},
     "output_type": "execute_result"
    }
   ],
   "source": [
    "index = pd.MultiIndex.from_arrays([label_v1,label_v2],names = ['field_id','index_id'])\n",
    "xdata_trnsf.columns = index\n",
    "xdata_trnsf"
   ]
  },
  {
   "cell_type": "markdown",
   "metadata": {},
   "source": [
    "###  对数据进行重新编码"
   ]
  },
  {
   "cell_type": "code",
   "execution_count": 11,
   "metadata": {},
   "outputs": [
    {
     "data": {
      "text/html": [
       "<div>\n",
       "<style>\n",
       "    .dataframe thead tr:only-child th {\n",
       "        text-align: right;\n",
       "    }\n",
       "\n",
       "    .dataframe thead th {\n",
       "        text-align: left;\n",
       "    }\n",
       "\n",
       "    .dataframe tbody tr th {\n",
       "        vertical-align: top;\n",
       "    }\n",
       "</style>\n",
       "<table border=\"1\" class=\"dataframe\">\n",
       "  <thead>\n",
       "    <tr>\n",
       "      <th>field_id</th>\n",
       "      <th>C</th>\n",
       "      <th colspan=\"2\" halign=\"left\">A</th>\n",
       "      <th colspan=\"3\" halign=\"left\">B</th>\n",
       "    </tr>\n",
       "    <tr>\n",
       "      <th>index_id</th>\n",
       "      <th>C</th>\n",
       "      <th>A:a1</th>\n",
       "      <th>A:a2</th>\n",
       "      <th>B:1</th>\n",
       "      <th>B:2</th>\n",
       "      <th>B:3</th>\n",
       "    </tr>\n",
       "  </thead>\n",
       "  <tbody>\n",
       "    <tr>\n",
       "      <th>0</th>\n",
       "      <td>3</td>\n",
       "      <td>1</td>\n",
       "      <td>0</td>\n",
       "      <td>1</td>\n",
       "      <td>0</td>\n",
       "      <td>0</td>\n",
       "    </tr>\n",
       "    <tr>\n",
       "      <th>1</th>\n",
       "      <td>2</td>\n",
       "      <td>0</td>\n",
       "      <td>1</td>\n",
       "      <td>0</td>\n",
       "      <td>1</td>\n",
       "      <td>0</td>\n",
       "    </tr>\n",
       "    <tr>\n",
       "      <th>2</th>\n",
       "      <td>4</td>\n",
       "      <td>1</td>\n",
       "      <td>0</td>\n",
       "      <td>0</td>\n",
       "      <td>0</td>\n",
       "      <td>1</td>\n",
       "    </tr>\n",
       "  </tbody>\n",
       "</table>\n",
       "</div>"
      ],
      "text/plain": [
       "field_id  C    A        B        \n",
       "index_id  C A:a1 A:a2 B:1 B:2 B:3\n",
       "0         3    1    0   1   0   0\n",
       "1         2    0    1   0   1   0\n",
       "2         4    1    0   0   0   1"
      ]
     },
     "execution_count": 11,
     "metadata": {},
     "output_type": "execute_result"
    }
   ],
   "source": [
    "xdata_trnsf"
   ]
  },
  {
   "cell_type": "markdown",
   "metadata": {},
   "source": [
    "## 初始化随机矩阵"
   ]
  },
  {
   "cell_type": "code",
   "execution_count": 40,
   "metadata": {},
   "outputs": [
    {
     "data": {
      "text/plain": [
       "<class 'pandas.core.panel.Panel'>\n",
       "Dimensions: 2 (items) x 6 (major_axis) x 3 (minor_axis)\n",
       "Items axis: 0 to 1\n",
       "Major_axis axis: A:a1 to C\n",
       "Minor_axis axis: A to C"
      ]
     },
     "execution_count": 40,
     "metadata": {},
     "output_type": "execute_result"
    }
   ],
   "source": [
    "numOfField = xdata_trnsf.columns.levels[0].tolist().__len__()\n",
    "numOfIndex = xdata_trnsf.columns.levels[1].tolist().__len__()\n",
    "numOfK     = 2\n",
    "Wmatrix = pd.Panel(np.random.rand(numOfK,numOfIndex,numOfField)\n",
    "                  ,major_axis = xdata_trnsf.columns.levels[1]\n",
    "                  ,minor_axis = xdata_trnsf.columns.levels[0]\n",
    "                  )\n",
    "\n",
    "# Wmatrix = pd.Panel(np.array(range(numOfK*numOfIndex*numOfField)).reshape(numOfK,numOfIndex,numOfField)\n",
    "#                   ,major_axis = xdata_trnsf.columns.levels[1]\n",
    "#                   ,minor_axis = xdata_trnsf.columns.levels[0]\n",
    "#                   )\n",
    "\n",
    "\n",
    "Wmatrix\n",
    "# wmatrix 是每一个向量对于每一个field的factor"
   ]
  },
  {
   "cell_type": "markdown",
   "metadata": {},
   "source": [
    "### 从panel中获取元素的方法"
   ]
  },
  {
   "cell_type": "code",
   "execution_count": 41,
   "metadata": {
    "scrolled": true
   },
   "outputs": [
    {
     "data": {
      "text/html": [
       "<div>\n",
       "<style>\n",
       "    .dataframe thead tr:only-child th {\n",
       "        text-align: right;\n",
       "    }\n",
       "\n",
       "    .dataframe thead th {\n",
       "        text-align: left;\n",
       "    }\n",
       "\n",
       "    .dataframe tbody tr th {\n",
       "        vertical-align: top;\n",
       "    }\n",
       "</style>\n",
       "<table border=\"1\" class=\"dataframe\">\n",
       "  <thead>\n",
       "    <tr style=\"text-align: right;\">\n",
       "      <th>field_id</th>\n",
       "      <th>A</th>\n",
       "      <th>B</th>\n",
       "      <th>C</th>\n",
       "    </tr>\n",
       "    <tr>\n",
       "      <th>index_id</th>\n",
       "      <th></th>\n",
       "      <th></th>\n",
       "      <th></th>\n",
       "    </tr>\n",
       "  </thead>\n",
       "  <tbody>\n",
       "    <tr>\n",
       "      <th>A:a1</th>\n",
       "      <td>0.784</td>\n",
       "      <td>0.369</td>\n",
       "      <td>0.178</td>\n",
       "    </tr>\n",
       "    <tr>\n",
       "      <th>A:a2</th>\n",
       "      <td>0.929</td>\n",
       "      <td>0.155</td>\n",
       "      <td>0.909</td>\n",
       "    </tr>\n",
       "    <tr>\n",
       "      <th>B:1</th>\n",
       "      <td>0.902</td>\n",
       "      <td>0.406</td>\n",
       "      <td>0.864</td>\n",
       "    </tr>\n",
       "    <tr>\n",
       "      <th>B:2</th>\n",
       "      <td>0.302</td>\n",
       "      <td>0.267</td>\n",
       "      <td>0.111</td>\n",
       "    </tr>\n",
       "    <tr>\n",
       "      <th>B:3</th>\n",
       "      <td>0.948</td>\n",
       "      <td>0.711</td>\n",
       "      <td>0.044</td>\n",
       "    </tr>\n",
       "    <tr>\n",
       "      <th>C</th>\n",
       "      <td>0.108</td>\n",
       "      <td>0.103</td>\n",
       "      <td>0.856</td>\n",
       "    </tr>\n",
       "  </tbody>\n",
       "</table>\n",
       "</div>"
      ],
      "text/plain": [
       "field_id      A      B      C\n",
       "index_id                     \n",
       "A:a1      0.784  0.369  0.178\n",
       "A:a2      0.929  0.155  0.909\n",
       "B:1       0.902  0.406  0.864\n",
       "B:2       0.302  0.267  0.111\n",
       "B:3       0.948  0.711  0.044\n",
       "C         0.108  0.103  0.856"
      ]
     },
     "execution_count": 41,
     "metadata": {},
     "output_type": "execute_result"
    }
   ],
   "source": [
    "# 获取所有index 在这些field上面的向量的一维度部分\n",
    "Wmatrix.loc[0,:,:]"
   ]
  },
  {
   "cell_type": "markdown",
   "metadata": {},
   "source": [
    "## 求出$\\phi$的方法"
   ]
  },
  {
   "cell_type": "markdown",
   "metadata": {},
   "source": [
    "### 获取第一个人的信息"
   ]
  },
  {
   "cell_type": "code",
   "execution_count": 42,
   "metadata": {},
   "outputs": [
    {
     "data": {
      "text/html": [
       "<div>\n",
       "<style>\n",
       "    .dataframe thead tr:only-child th {\n",
       "        text-align: right;\n",
       "    }\n",
       "\n",
       "    .dataframe thead th {\n",
       "        text-align: left;\n",
       "    }\n",
       "\n",
       "    .dataframe tbody tr th {\n",
       "        vertical-align: top;\n",
       "    }\n",
       "</style>\n",
       "<table border=\"1\" class=\"dataframe\">\n",
       "  <thead>\n",
       "    <tr style=\"text-align: right;\">\n",
       "      <th></th>\n",
       "      <th></th>\n",
       "      <th>0</th>\n",
       "    </tr>\n",
       "    <tr>\n",
       "      <th>field_id</th>\n",
       "      <th>index_id</th>\n",
       "      <th></th>\n",
       "    </tr>\n",
       "  </thead>\n",
       "  <tbody>\n",
       "    <tr>\n",
       "      <th>C</th>\n",
       "      <th>C</th>\n",
       "      <td>3</td>\n",
       "    </tr>\n",
       "    <tr>\n",
       "      <th rowspan=\"2\" valign=\"top\">A</th>\n",
       "      <th>A:a1</th>\n",
       "      <td>1</td>\n",
       "    </tr>\n",
       "    <tr>\n",
       "      <th>A:a2</th>\n",
       "      <td>0</td>\n",
       "    </tr>\n",
       "    <tr>\n",
       "      <th rowspan=\"3\" valign=\"top\">B</th>\n",
       "      <th>B:1</th>\n",
       "      <td>1</td>\n",
       "    </tr>\n",
       "    <tr>\n",
       "      <th>B:2</th>\n",
       "      <td>0</td>\n",
       "    </tr>\n",
       "    <tr>\n",
       "      <th>B:3</th>\n",
       "      <td>0</td>\n",
       "    </tr>\n",
       "  </tbody>\n",
       "</table>\n",
       "</div>"
      ],
      "text/plain": [
       "                   0\n",
       "field_id index_id   \n",
       "C        C         3\n",
       "A        A:a1      1\n",
       "         A:a2      0\n",
       "B        B:1       1\n",
       "         B:2       0\n",
       "         B:3       0"
      ]
     },
     "execution_count": 42,
     "metadata": {},
     "output_type": "execute_result"
    }
   ],
   "source": [
    "record = xdata_trnsf.loc[0,:].to_frame().to_sparse()\n",
    "record\n"
   ]
  },
  {
   "cell_type": "code",
   "execution_count": 43,
   "metadata": {},
   "outputs": [
    {
     "data": {
      "text/html": [
       "<div>\n",
       "<style>\n",
       "    .dataframe thead tr:only-child th {\n",
       "        text-align: right;\n",
       "    }\n",
       "\n",
       "    .dataframe thead th {\n",
       "        text-align: left;\n",
       "    }\n",
       "\n",
       "    .dataframe tbody tr th {\n",
       "        vertical-align: top;\n",
       "    }\n",
       "</style>\n",
       "<table border=\"1\" class=\"dataframe\">\n",
       "  <thead>\n",
       "    <tr>\n",
       "      <th></th>\n",
       "      <th>field_id</th>\n",
       "      <th>C</th>\n",
       "      <th colspan=\"2\" halign=\"left\">A</th>\n",
       "      <th colspan=\"3\" halign=\"left\">B</th>\n",
       "    </tr>\n",
       "    <tr>\n",
       "      <th></th>\n",
       "      <th>index_id</th>\n",
       "      <th>C</th>\n",
       "      <th>A:a1</th>\n",
       "      <th>A:a2</th>\n",
       "      <th>B:1</th>\n",
       "      <th>B:2</th>\n",
       "      <th>B:3</th>\n",
       "    </tr>\n",
       "    <tr>\n",
       "      <th>field_id</th>\n",
       "      <th>index_id</th>\n",
       "      <th></th>\n",
       "      <th></th>\n",
       "      <th></th>\n",
       "      <th></th>\n",
       "      <th></th>\n",
       "      <th></th>\n",
       "    </tr>\n",
       "  </thead>\n",
       "  <tbody>\n",
       "    <tr>\n",
       "      <th>C</th>\n",
       "      <th>C</th>\n",
       "      <td>0</td>\n",
       "      <td>3</td>\n",
       "      <td>0</td>\n",
       "      <td>3</td>\n",
       "      <td>0</td>\n",
       "      <td>0</td>\n",
       "    </tr>\n",
       "    <tr>\n",
       "      <th rowspan=\"2\" valign=\"top\">A</th>\n",
       "      <th>A:a1</th>\n",
       "      <td>0</td>\n",
       "      <td>0</td>\n",
       "      <td>0</td>\n",
       "      <td>1</td>\n",
       "      <td>0</td>\n",
       "      <td>0</td>\n",
       "    </tr>\n",
       "    <tr>\n",
       "      <th>A:a2</th>\n",
       "      <td>0</td>\n",
       "      <td>0</td>\n",
       "      <td>0</td>\n",
       "      <td>0</td>\n",
       "      <td>0</td>\n",
       "      <td>0</td>\n",
       "    </tr>\n",
       "    <tr>\n",
       "      <th rowspan=\"3\" valign=\"top\">B</th>\n",
       "      <th>B:1</th>\n",
       "      <td>0</td>\n",
       "      <td>0</td>\n",
       "      <td>0</td>\n",
       "      <td>0</td>\n",
       "      <td>0</td>\n",
       "      <td>0</td>\n",
       "    </tr>\n",
       "    <tr>\n",
       "      <th>B:2</th>\n",
       "      <td>0</td>\n",
       "      <td>0</td>\n",
       "      <td>0</td>\n",
       "      <td>0</td>\n",
       "      <td>0</td>\n",
       "      <td>0</td>\n",
       "    </tr>\n",
       "    <tr>\n",
       "      <th>B:3</th>\n",
       "      <td>0</td>\n",
       "      <td>0</td>\n",
       "      <td>0</td>\n",
       "      <td>0</td>\n",
       "      <td>0</td>\n",
       "      <td>0</td>\n",
       "    </tr>\n",
       "  </tbody>\n",
       "</table>\n",
       "</div>"
      ],
      "text/plain": [
       "field_id           C    A        B        \n",
       "index_id           C A:a1 A:a2 B:1 B:2 B:3\n",
       "field_id index_id                         \n",
       "C        C         0    3    0   3   0   0\n",
       "A        A:a1      0    0    0   1   0   0\n",
       "         A:a2      0    0    0   0   0   0\n",
       "B        B:1       0    0    0   0   0   0\n",
       "         B:2       0    0    0   0   0   0\n",
       "         B:3       0    0    0   0   0   0"
      ]
     },
     "execution_count": 43,
     "metadata": {},
     "output_type": "execute_result"
    }
   ],
   "source": [
    "record_matrix = record.dot(record.T)\n",
    "upper = np.triu(record_matrix.values)\n",
    "upper[range(upper.shape[0]),range(upper.shape[0]) ]= 0\n",
    "record_matrix = pd.DataFrame(upper  ,index = record_matrix.index , columns = record_matrix.columns)\n",
    "record_matrix"
   ]
  },
  {
   "cell_type": "markdown",
   "metadata": {},
   "source": [
    "### 利用record_matrix 生成xToFactor 和 factorToX 两个tensor"
   ]
  },
  {
   "cell_type": "markdown",
   "metadata": {},
   "source": [
    "#### 从多层索引中获得值的方法"
   ]
  },
  {
   "cell_type": "code",
   "execution_count": 44,
   "metadata": {
    "collapsed": true
   },
   "outputs": [],
   "source": [
    "field_idUsed = record_matrix.index.get_level_values(level = 'field_id')\n",
    "index_idUsed = record_matrix.index.get_level_values(level = 'index_id')\n",
    "\n",
    "xToFactor   = Wmatrix.loc[:,index_idUsed,field_idUsed] \n",
    "factorToX   = xToFactor.transpose(0,2,1,copy =True)"
   ]
  },
  {
   "cell_type": "code",
   "execution_count": 45,
   "metadata": {},
   "outputs": [
    {
     "data": {
      "text/html": [
       "<div>\n",
       "<style>\n",
       "    .dataframe thead tr:only-child th {\n",
       "        text-align: right;\n",
       "    }\n",
       "\n",
       "    .dataframe thead th {\n",
       "        text-align: left;\n",
       "    }\n",
       "\n",
       "    .dataframe tbody tr th {\n",
       "        vertical-align: top;\n",
       "    }\n",
       "</style>\n",
       "<table border=\"1\" class=\"dataframe\">\n",
       "  <thead>\n",
       "    <tr style=\"text-align: right;\">\n",
       "      <th>field_id</th>\n",
       "      <th>C</th>\n",
       "      <th>A</th>\n",
       "      <th>A</th>\n",
       "      <th>B</th>\n",
       "      <th>B</th>\n",
       "      <th>B</th>\n",
       "    </tr>\n",
       "    <tr>\n",
       "      <th>index_id</th>\n",
       "      <th></th>\n",
       "      <th></th>\n",
       "      <th></th>\n",
       "      <th></th>\n",
       "      <th></th>\n",
       "      <th></th>\n",
       "    </tr>\n",
       "  </thead>\n",
       "  <tbody>\n",
       "    <tr>\n",
       "      <th>C</th>\n",
       "      <td>0.856</td>\n",
       "      <td>0.108</td>\n",
       "      <td>0.108</td>\n",
       "      <td>0.103</td>\n",
       "      <td>0.103</td>\n",
       "      <td>0.103</td>\n",
       "    </tr>\n",
       "    <tr>\n",
       "      <th>A:a1</th>\n",
       "      <td>0.178</td>\n",
       "      <td>0.784</td>\n",
       "      <td>0.784</td>\n",
       "      <td>0.369</td>\n",
       "      <td>0.369</td>\n",
       "      <td>0.369</td>\n",
       "    </tr>\n",
       "    <tr>\n",
       "      <th>A:a2</th>\n",
       "      <td>0.909</td>\n",
       "      <td>0.929</td>\n",
       "      <td>0.929</td>\n",
       "      <td>0.155</td>\n",
       "      <td>0.155</td>\n",
       "      <td>0.155</td>\n",
       "    </tr>\n",
       "    <tr>\n",
       "      <th>B:1</th>\n",
       "      <td>0.864</td>\n",
       "      <td>0.902</td>\n",
       "      <td>0.902</td>\n",
       "      <td>0.406</td>\n",
       "      <td>0.406</td>\n",
       "      <td>0.406</td>\n",
       "    </tr>\n",
       "    <tr>\n",
       "      <th>B:2</th>\n",
       "      <td>0.111</td>\n",
       "      <td>0.302</td>\n",
       "      <td>0.302</td>\n",
       "      <td>0.267</td>\n",
       "      <td>0.267</td>\n",
       "      <td>0.267</td>\n",
       "    </tr>\n",
       "    <tr>\n",
       "      <th>B:3</th>\n",
       "      <td>0.044</td>\n",
       "      <td>0.948</td>\n",
       "      <td>0.948</td>\n",
       "      <td>0.711</td>\n",
       "      <td>0.711</td>\n",
       "      <td>0.711</td>\n",
       "    </tr>\n",
       "  </tbody>\n",
       "</table>\n",
       "</div>"
      ],
      "text/plain": [
       "field_id      C      A      A      B      B      B\n",
       "index_id                                          \n",
       "C         0.856  0.108  0.108  0.103  0.103  0.103\n",
       "A:a1      0.178  0.784  0.784  0.369  0.369  0.369\n",
       "A:a2      0.909  0.929  0.929  0.155  0.155  0.155\n",
       "B:1       0.864  0.902  0.902  0.406  0.406  0.406\n",
       "B:2       0.111  0.302  0.302  0.267  0.267  0.267\n",
       "B:3       0.044  0.948  0.948  0.711  0.711  0.711"
      ]
     },
     "execution_count": 45,
     "metadata": {},
     "output_type": "execute_result"
    }
   ],
   "source": [
    "xToFactor.iloc[0,:,:]"
   ]
  },
  {
   "cell_type": "code",
   "execution_count": 46,
   "metadata": {},
   "outputs": [
    {
     "data": {
      "text/html": [
       "<div>\n",
       "<style>\n",
       "    .dataframe thead tr:only-child th {\n",
       "        text-align: right;\n",
       "    }\n",
       "\n",
       "    .dataframe thead th {\n",
       "        text-align: left;\n",
       "    }\n",
       "\n",
       "    .dataframe tbody tr th {\n",
       "        vertical-align: top;\n",
       "    }\n",
       "</style>\n",
       "<table border=\"1\" class=\"dataframe\">\n",
       "  <thead>\n",
       "    <tr style=\"text-align: right;\">\n",
       "      <th>index_id</th>\n",
       "      <th>C</th>\n",
       "      <th>A:a1</th>\n",
       "      <th>A:a2</th>\n",
       "      <th>B:1</th>\n",
       "      <th>B:2</th>\n",
       "      <th>B:3</th>\n",
       "    </tr>\n",
       "    <tr>\n",
       "      <th>field_id</th>\n",
       "      <th></th>\n",
       "      <th></th>\n",
       "      <th></th>\n",
       "      <th></th>\n",
       "      <th></th>\n",
       "      <th></th>\n",
       "    </tr>\n",
       "  </thead>\n",
       "  <tbody>\n",
       "    <tr>\n",
       "      <th>C</th>\n",
       "      <td>0.856</td>\n",
       "      <td>0.178</td>\n",
       "      <td>0.909</td>\n",
       "      <td>0.864</td>\n",
       "      <td>0.111</td>\n",
       "      <td>0.044</td>\n",
       "    </tr>\n",
       "    <tr>\n",
       "      <th>A</th>\n",
       "      <td>0.108</td>\n",
       "      <td>0.784</td>\n",
       "      <td>0.929</td>\n",
       "      <td>0.902</td>\n",
       "      <td>0.302</td>\n",
       "      <td>0.948</td>\n",
       "    </tr>\n",
       "    <tr>\n",
       "      <th>A</th>\n",
       "      <td>0.108</td>\n",
       "      <td>0.784</td>\n",
       "      <td>0.929</td>\n",
       "      <td>0.902</td>\n",
       "      <td>0.302</td>\n",
       "      <td>0.948</td>\n",
       "    </tr>\n",
       "    <tr>\n",
       "      <th>B</th>\n",
       "      <td>0.103</td>\n",
       "      <td>0.369</td>\n",
       "      <td>0.155</td>\n",
       "      <td>0.406</td>\n",
       "      <td>0.267</td>\n",
       "      <td>0.711</td>\n",
       "    </tr>\n",
       "    <tr>\n",
       "      <th>B</th>\n",
       "      <td>0.103</td>\n",
       "      <td>0.369</td>\n",
       "      <td>0.155</td>\n",
       "      <td>0.406</td>\n",
       "      <td>0.267</td>\n",
       "      <td>0.711</td>\n",
       "    </tr>\n",
       "    <tr>\n",
       "      <th>B</th>\n",
       "      <td>0.103</td>\n",
       "      <td>0.369</td>\n",
       "      <td>0.155</td>\n",
       "      <td>0.406</td>\n",
       "      <td>0.267</td>\n",
       "      <td>0.711</td>\n",
       "    </tr>\n",
       "  </tbody>\n",
       "</table>\n",
       "</div>"
      ],
      "text/plain": [
       "index_id      C   A:a1   A:a2    B:1    B:2    B:3\n",
       "field_id                                          \n",
       "C         0.856  0.178  0.909  0.864  0.111  0.044\n",
       "A         0.108  0.784  0.929  0.902  0.302  0.948\n",
       "A         0.108  0.784  0.929  0.902  0.302  0.948\n",
       "B         0.103  0.369  0.155  0.406  0.267  0.711\n",
       "B         0.103  0.369  0.155  0.406  0.267  0.711\n",
       "B         0.103  0.369  0.155  0.406  0.267  0.711"
      ]
     },
     "execution_count": 46,
     "metadata": {},
     "output_type": "execute_result"
    }
   ],
   "source": [
    "factorToX.iloc[0,:,:]"
   ]
  },
  {
   "cell_type": "markdown",
   "metadata": {},
   "source": [
    "### 计算$\\phi$"
   ]
  },
  {
   "cell_type": "code",
   "execution_count": 47,
   "metadata": {},
   "outputs": [
    {
     "data": {
      "text/plain": [
       "array([[0.734, 0.019, 0.099, 0.089, 0.011, 0.005],\n",
       "       [0.019, 0.614, 0.728, 0.333, 0.111, 0.35 ],\n",
       "       [0.099, 0.728, 0.864, 0.14 , 0.047, 0.147],\n",
       "       [0.089, 0.333, 0.14 , 0.165, 0.108, 0.288],\n",
       "       [0.011, 0.111, 0.047, 0.108, 0.071, 0.19 ],\n",
       "       [0.005, 0.35 , 0.147, 0.288, 0.19 , 0.506]])"
      ]
     },
     "execution_count": 47,
     "metadata": {},
     "output_type": "execute_result"
    }
   ],
   "source": [
    "(xToFactor.values*(factorToX.values))[0,...]"
   ]
  },
  {
   "cell_type": "code",
   "execution_count": 48,
   "metadata": {},
   "outputs": [
    {
     "data": {
      "text/html": [
       "<div>\n",
       "<style>\n",
       "    .dataframe thead tr:only-child th {\n",
       "        text-align: right;\n",
       "    }\n",
       "\n",
       "    .dataframe thead th {\n",
       "        text-align: left;\n",
       "    }\n",
       "\n",
       "    .dataframe tbody tr th {\n",
       "        vertical-align: top;\n",
       "    }\n",
       "</style>\n",
       "<table border=\"1\" class=\"dataframe\">\n",
       "  <thead>\n",
       "    <tr>\n",
       "      <th></th>\n",
       "      <th>field_id</th>\n",
       "      <th>C</th>\n",
       "      <th colspan=\"2\" halign=\"left\">A</th>\n",
       "      <th colspan=\"3\" halign=\"left\">B</th>\n",
       "    </tr>\n",
       "    <tr>\n",
       "      <th></th>\n",
       "      <th>index_id</th>\n",
       "      <th>C</th>\n",
       "      <th>A:a1</th>\n",
       "      <th>A:a2</th>\n",
       "      <th>B:1</th>\n",
       "      <th>B:2</th>\n",
       "      <th>B:3</th>\n",
       "    </tr>\n",
       "    <tr>\n",
       "      <th>field_id</th>\n",
       "      <th>index_id</th>\n",
       "      <th></th>\n",
       "      <th></th>\n",
       "      <th></th>\n",
       "      <th></th>\n",
       "      <th></th>\n",
       "      <th></th>\n",
       "    </tr>\n",
       "  </thead>\n",
       "  <tbody>\n",
       "    <tr>\n",
       "      <th>C</th>\n",
       "      <th>C</th>\n",
       "      <td>0</td>\n",
       "      <td>3</td>\n",
       "      <td>0</td>\n",
       "      <td>3</td>\n",
       "      <td>0</td>\n",
       "      <td>0</td>\n",
       "    </tr>\n",
       "    <tr>\n",
       "      <th rowspan=\"2\" valign=\"top\">A</th>\n",
       "      <th>A:a1</th>\n",
       "      <td>0</td>\n",
       "      <td>0</td>\n",
       "      <td>0</td>\n",
       "      <td>1</td>\n",
       "      <td>0</td>\n",
       "      <td>0</td>\n",
       "    </tr>\n",
       "    <tr>\n",
       "      <th>A:a2</th>\n",
       "      <td>0</td>\n",
       "      <td>0</td>\n",
       "      <td>0</td>\n",
       "      <td>0</td>\n",
       "      <td>0</td>\n",
       "      <td>0</td>\n",
       "    </tr>\n",
       "    <tr>\n",
       "      <th rowspan=\"3\" valign=\"top\">B</th>\n",
       "      <th>B:1</th>\n",
       "      <td>0</td>\n",
       "      <td>0</td>\n",
       "      <td>0</td>\n",
       "      <td>0</td>\n",
       "      <td>0</td>\n",
       "      <td>0</td>\n",
       "    </tr>\n",
       "    <tr>\n",
       "      <th>B:2</th>\n",
       "      <td>0</td>\n",
       "      <td>0</td>\n",
       "      <td>0</td>\n",
       "      <td>0</td>\n",
       "      <td>0</td>\n",
       "      <td>0</td>\n",
       "    </tr>\n",
       "    <tr>\n",
       "      <th>B:3</th>\n",
       "      <td>0</td>\n",
       "      <td>0</td>\n",
       "      <td>0</td>\n",
       "      <td>0</td>\n",
       "      <td>0</td>\n",
       "      <td>0</td>\n",
       "    </tr>\n",
       "  </tbody>\n",
       "</table>\n",
       "</div>"
      ],
      "text/plain": [
       "field_id           C    A        B        \n",
       "index_id           C A:a1 A:a2 B:1 B:2 B:3\n",
       "field_id index_id                         \n",
       "C        C         0    3    0   3   0   0\n",
       "A        A:a1      0    0    0   1   0   0\n",
       "         A:a2      0    0    0   0   0   0\n",
       "B        B:1       0    0    0   0   0   0\n",
       "         B:2       0    0    0   0   0   0\n",
       "         B:3       0    0    0   0   0   0"
      ]
     },
     "execution_count": 48,
     "metadata": {},
     "output_type": "execute_result"
    }
   ],
   "source": [
    "record_matrix"
   ]
  },
  {
   "cell_type": "code",
   "execution_count": 49,
   "metadata": {},
   "outputs": [
    {
     "data": {
      "text/plain": [
       "array([[0.   , 0.058, 0.   , 0.268, 0.   , 0.   ],\n",
       "       [0.   , 0.   , 0.   , 0.333, 0.   , 0.   ],\n",
       "       [0.   , 0.   , 0.   , 0.   , 0.   , 0.   ],\n",
       "       [0.   , 0.   , 0.   , 0.   , 0.   , 0.   ],\n",
       "       [0.   , 0.   , 0.   , 0.   , 0.   , 0.   ],\n",
       "       [0.   , 0.   , 0.   , 0.   , 0.   , 0.   ]])"
      ]
     },
     "execution_count": 49,
     "metadata": {},
     "output_type": "execute_result"
    }
   ],
   "source": [
    "phi = (xToFactor.values*(factorToX.values))*record_matrix.values\n",
    "phi[0,:,:]"
   ]
  },
  {
   "cell_type": "code",
   "execution_count": 50,
   "metadata": {},
   "outputs": [
    {
     "data": {
      "text/plain": [
       "1.596910081397567"
      ]
     },
     "execution_count": 50,
     "metadata": {},
     "output_type": "execute_result"
    }
   ],
   "source": [
    "phi = phi.sum()\n",
    "phi"
   ]
  },
  {
   "cell_type": "code",
   "execution_count": 51,
   "metadata": {},
   "outputs": [
    {
     "data": {
      "text/plain": [
       "0.831586083234489"
      ]
     },
     "execution_count": 51,
     "metadata": {},
     "output_type": "execute_result"
    }
   ],
   "source": [
    "# prob\n",
    "np.exp(phi)/(1+np.exp(phi))"
   ]
  },
  {
   "cell_type": "markdown",
   "metadata": {},
   "source": [
    "### 计算$ \\frac{\\exp{(-y\\phi)}}{1+\\exp{(-y\\phi)}}$"
   ]
  },
  {
   "cell_type": "code",
   "execution_count": 52,
   "metadata": {
    "collapsed": true
   },
   "outputs": [],
   "source": [
    "y = ydata[0]\n",
    "g_phi = np.exp(-y*phi)/(1+np.exp(-y*phi))"
   ]
  },
  {
   "cell_type": "code",
   "execution_count": 53,
   "metadata": {},
   "outputs": [
    {
     "data": {
      "text/plain": [
       "0.5"
      ]
     },
     "execution_count": 53,
     "metadata": {},
     "output_type": "execute_result"
    }
   ],
   "source": [
    "g_phi"
   ]
  },
  {
   "cell_type": "markdown",
   "metadata": {},
   "source": [
    "### 计算偏导数"
   ]
  },
  {
   "cell_type": "markdown",
   "metadata": {
    "collapsed": true
   },
   "source": [
    "#### 计算  xx $*$ xf 和 xx $*$ fx\n"
   ]
  },
  {
   "cell_type": "code",
   "execution_count": 54,
   "metadata": {
    "collapsed": true
   },
   "outputs": [],
   "source": [
    "grad = g_phi * factorToX.values * record_matrix.values + (xToFactor.values * record_matrix.values).transpose(0,2,1)"
   ]
  },
  {
   "cell_type": "code",
   "execution_count": 55,
   "metadata": {},
   "outputs": [
    {
     "data": {
      "text/plain": [
       "array([[[0.   , 0.267, 0.   , 1.295, 0.   , 0.   ],\n",
       "        [0.325, 0.   , 0.   , 0.451, 0.   , 0.   ],\n",
       "        [0.   , 0.   , 0.   , 0.   , 0.   , 0.   ],\n",
       "        [0.31 , 0.369, 0.   , 0.   , 0.   , 0.   ],\n",
       "        [0.   , 0.   , 0.   , 0.   , 0.   , 0.   ],\n",
       "        [0.   , 0.   , 0.   , 0.   , 0.   , 0.   ]],\n",
       "\n",
       "       [[0.   , 0.252, 0.   , 0.429, 0.   , 0.   ],\n",
       "        [0.927, 0.   , 0.   , 0.09 , 0.   , 0.   ],\n",
       "        [0.   , 0.   , 0.   , 0.   , 0.   , 0.   ],\n",
       "        [2.431, 0.482, 0.   , 0.   , 0.   , 0.   ],\n",
       "        [0.   , 0.   , 0.   , 0.   , 0.   , 0.   ],\n",
       "        [0.   , 0.   , 0.   , 0.   , 0.   , 0.   ]]])"
      ]
     },
     "execution_count": 55,
     "metadata": {},
     "output_type": "execute_result"
    }
   ],
   "source": [
    "grad"
   ]
  },
  {
   "cell_type": "code",
   "execution_count": 56,
   "metadata": {},
   "outputs": [
    {
     "data": {
      "text/plain": [
       "['C', 'A', 'A', 'B', 'B', 'B']"
      ]
     },
     "execution_count": 56,
     "metadata": {},
     "output_type": "execute_result"
    }
   ],
   "source": [
    "label_v1"
   ]
  },
  {
   "cell_type": "code",
   "execution_count": 57,
   "metadata": {},
   "outputs": [
    {
     "data": {
      "text/plain": [
       "['C', 'A', 'B']"
      ]
     },
     "execution_count": 57,
     "metadata": {},
     "output_type": "execute_result"
    }
   ],
   "source": [
    "from collections import OrderedDict\n",
    "orderCol = list(OrderedDict.fromkeys(label_v1))\n",
    "orderCol"
   ]
  },
  {
   "cell_type": "code",
   "execution_count": 58,
   "metadata": {},
   "outputs": [
    {
     "data": {
      "text/plain": [
       "{'A': 2, 'B': 3, 'C': 1}"
      ]
     },
     "execution_count": 58,
     "metadata": {},
     "output_type": "execute_result"
    }
   ],
   "source": [
    "from collections import Counter\n",
    "counterOfCol = dict(Counter(label_v1))\n",
    "counterOfCol"
   ]
  },
  {
   "cell_type": "code",
   "execution_count": 59,
   "metadata": {},
   "outputs": [
    {
     "data": {
      "text/plain": [
       "array([0, 1, 3, 6], dtype=int32)"
      ]
     },
     "execution_count": 59,
     "metadata": {},
     "output_type": "execute_result"
    }
   ],
   "source": [
    "# get the slices so that can subtract sub matrix \n",
    "slcs = [counterOfCol[i] for i in orderCol]\n",
    "slcs = np.cumsum(slcs)\n",
    "slcs = np.insert(slcs,0,0)\n",
    "slcs"
   ]
  },
  {
   "cell_type": "markdown",
   "metadata": {},
   "source": [
    "### 计算真实的梯度"
   ]
  },
  {
   "cell_type": "code",
   "execution_count": 60,
   "metadata": {},
   "outputs": [
    {
     "data": {
      "text/plain": [
       "array([[[0.   , 0.325, 0.31 ],\n",
       "        [0.267, 0.   , 0.369],\n",
       "        [0.   , 0.   , 0.   ],\n",
       "        [1.295, 0.451, 0.   ],\n",
       "        [0.   , 0.   , 0.   ],\n",
       "        [0.   , 0.   , 0.   ]],\n",
       "\n",
       "       [[0.   , 0.927, 2.431],\n",
       "        [0.252, 0.   , 0.482],\n",
       "        [0.   , 0.   , 0.   ],\n",
       "        [0.429, 0.09 , 0.   ],\n",
       "        [0.   , 0.   , 0.   ],\n",
       "        [0.   , 0.   , 0.   ]]])"
      ]
     },
     "execution_count": 60,
     "metadata": {},
     "output_type": "execute_result"
    }
   ],
   "source": [
    "grad = np.stack(\n",
    "    [\n",
    "        grad[:,slcs[i]:slcs[i+1],:].sum(1) \n",
    "            for i in range(len(slcs)-1) \n",
    "    ]\n",
    ").transpose(1,2,0)\n",
    "grad"
   ]
  },
  {
   "cell_type": "code",
   "execution_count": 61,
   "metadata": {},
   "outputs": [
    {
     "name": "stdout",
     "output_type": "stream",
     "text": [
      "Index(['C', 'A', 'A', 'B', 'B', 'B'], dtype='object', name='field_id') \n",
      " Index(['C', 'A:a1', 'A:a2', 'B:1', 'B:2', 'B:3'], dtype='object', name='index_id')\n"
     ]
    }
   ],
   "source": [
    "# 随机梯度下降：\n",
    "\n",
    "field_idUsed = record_matrix.index.get_level_values(level = 'field_id')\n",
    "index_idUsed = record_matrix.index.get_level_values(level = 'index_id')\n",
    "print(field_idUsed,'\\n',index_idUsed)"
   ]
  },
  {
   "cell_type": "code",
   "execution_count": 62,
   "metadata": {
    "scrolled": true
   },
   "outputs": [
    {
     "data": {
      "text/plain": [
       "((2, 6, 3), (2, 6, 3))"
      ]
     },
     "execution_count": 62,
     "metadata": {},
     "output_type": "execute_result"
    }
   ],
   "source": [
    "Wmatrix.loc[:,index_idUsed,orderCol].shape,grad.shape"
   ]
  },
  {
   "cell_type": "code",
   "execution_count": 63,
   "metadata": {},
   "outputs": [
    {
     "data": {
      "text/plain": [
       "['C', 'A', 'B']"
      ]
     },
     "execution_count": 63,
     "metadata": {},
     "output_type": "execute_result"
    }
   ],
   "source": [
    "orderCol"
   ]
  },
  {
   "cell_type": "code",
   "execution_count": 64,
   "metadata": {},
   "outputs": [
    {
     "data": {
      "text/plain": [
       "array([[0.784, 0.369, 0.178],\n",
       "       [0.929, 0.155, 0.909],\n",
       "       [0.902, 0.406, 0.864],\n",
       "       [0.302, 0.267, 0.111],\n",
       "       [0.948, 0.711, 0.044],\n",
       "       [0.108, 0.103, 0.856]])"
      ]
     },
     "execution_count": 64,
     "metadata": {},
     "output_type": "execute_result"
    }
   ],
   "source": [
    "Wmatrix.values[0,...]"
   ]
  },
  {
   "cell_type": "code",
   "execution_count": 65,
   "metadata": {},
   "outputs": [
    {
     "data": {
      "text/plain": [
       "array([[[0.   , 0.   ],\n",
       "        [0.267, 0.252],\n",
       "        [0.   , 0.   ],\n",
       "        [1.295, 0.429],\n",
       "        [0.   , 0.   ],\n",
       "        [0.   , 0.   ]],\n",
       "\n",
       "       [[0.325, 0.927],\n",
       "        [0.   , 0.   ],\n",
       "        [0.   , 0.   ],\n",
       "        [0.451, 0.09 ],\n",
       "        [0.   , 0.   ],\n",
       "        [0.   , 0.   ]],\n",
       "\n",
       "       [[0.31 , 2.431],\n",
       "        [0.369, 0.482],\n",
       "        [0.   , 0.   ],\n",
       "        [0.   , 0.   ],\n",
       "        [0.   , 0.   ],\n",
       "        [0.   , 0.   ]]])"
      ]
     },
     "execution_count": 65,
     "metadata": {},
     "output_type": "execute_result"
    }
   ],
   "source": [
    "grad[:,:,:].transpose()"
   ]
  },
  {
   "cell_type": "code",
   "execution_count": 66,
   "metadata": {
    "collapsed": true
   },
   "outputs": [],
   "source": [
    "# SGD : \n",
    "lamda  = 0.01\n",
    "yita   = 1\n",
    "for i,j in enumerate(orderCol):\n",
    "    Wmatrix.loc[:,index_idUsed,j] =\\\n",
    "        (1-lamda)*Wmatrix.loc[:,index_idUsed,j] - yita*grad[:,:,i].transpose()"
   ]
  },
  {
   "cell_type": "code",
   "execution_count": 67,
   "metadata": {},
   "outputs": [
    {
     "data": {
      "text/plain": [
       "array([[ 0.776, -0.004, -0.091],\n",
       "       [ 0.92 ,  0.154,  0.9  ],\n",
       "       [ 0.442,  0.402, -0.44 ],\n",
       "       [ 0.299,  0.264,  0.11 ],\n",
       "       [ 0.939,  0.704,  0.043],\n",
       "       [-0.218, -0.208,  0.848]])"
      ]
     },
     "execution_count": 67,
     "metadata": {},
     "output_type": "execute_result"
    }
   ],
   "source": [
    "Wmatrix.values[0,...]"
   ]
  },
  {
   "cell_type": "code",
   "execution_count": null,
   "metadata": {
    "collapsed": true
   },
   "outputs": [],
   "source": []
  },
  {
   "cell_type": "markdown",
   "metadata": {
    "collapsed": true
   },
   "source": [
    "# 完整的随机梯度下降法"
   ]
  },
  {
   "cell_type": "code",
   "execution_count": 75,
   "metadata": {},
   "outputs": [
    {
     "name": "stdout",
     "output_type": "stream",
     "text": [
      "[[[ 4.648e-01  7.820e-05  5.586e-03]\n",
      "  [ 1.011e-01 -3.881e-03 -2.140e-04]\n",
      "  [ 1.753e-02  9.553e-01 -2.369e-01]\n",
      "  [ 8.785e-02  2.117e-01 -1.936e-03]\n",
      "  [ 3.267e-01  4.384e-01 -8.865e-01]\n",
      "  [-1.815e-01 -3.412e+00  7.490e-02]]\n",
      "\n",
      " [[ 1.247e-01  4.645e-05  1.197e-01]\n",
      "  [ 1.332e-01 -9.326e-03 -5.967e-03]\n",
      "  [ 4.452e-01  9.527e-01 -1.728e-01]\n",
      "  [ 3.806e-01  5.885e-02 -7.638e-03]\n",
      "  [ 3.770e-01  7.178e-01 -6.501e-01]\n",
      "  [-4.604e+00 -2.386e+00  3.689e-01]]]\n"
     ]
    }
   ],
   "source": [
    "import pandas as pd\n",
    "import numpy as np\n",
    "from collections import OrderedDict\n",
    "from collections import Counter\n",
    "import re\n",
    "\n",
    "np.set_printoptions(precision=3)\n",
    "pd.set_option( \"display.precision\",3)\n",
    "\n",
    "\n",
    "data = pd.DataFrame({'A':['a1','a2','a1'],'B':[1,2,3],'C':[3,2,4],'y':[0,0,1]})\n",
    "\n",
    "ydata = data['y']\n",
    "xdata = data.drop( 'y',axis = 1).copy()\n",
    "xdata.B = xdata.B.astype('category')\n",
    "\n",
    "\n",
    "categories = ['A','B']\n",
    "continues  = ['C']\n",
    "\n",
    "\n",
    "xdata_trnsf = pd.get_dummies(xdata,prefix=categories,prefix_sep = \":\",sparse = True)\n",
    "\n",
    "\n",
    "\n",
    "\n",
    "# 拿到一级label和二级label,重构索引\n",
    "label_v1 = [ label.split(':')[0] for label in xdata_trnsf.columns.tolist()]\n",
    "label_v2 = xdata_trnsf.columns.tolist()\n",
    "\n",
    "\n",
    "\n",
    "index = pd.MultiIndex.from_arrays([label_v1,label_v2],names = ['field_id','index_id'])\n",
    "xdata_trnsf.columns = index\n",
    "# xdata_trnsf\n",
    "\n",
    "# ## 初始化随机矩阵\n",
    "\n",
    "\n",
    "numOfField = xdata_trnsf.columns.levels[0].tolist().__len__()\n",
    "numOfIndex = xdata_trnsf.columns.levels[1].tolist().__len__()\n",
    "numOfK     = 2\n",
    "Wmatrix = pd.Panel(np.random.rand(numOfK,numOfIndex,numOfField)\n",
    "                  ,major_axis = xdata_trnsf.columns.levels[1]\n",
    "                  ,minor_axis = xdata_trnsf.columns.levels[0]\n",
    "                  )\n",
    "\n",
    "\n",
    "\n",
    "# SGD start\n",
    "ephoch = 100\n",
    "# 随机梯度下降：\n",
    "\n",
    "lamda  = 0.01\n",
    "yita   = 1\n",
    "\n",
    "\n",
    "# use shuffled userList:\n",
    "userList = [0,1,2]\n",
    "for user in userList:\n",
    "    # get user record\n",
    "    record = xdata_trnsf.loc[user,:].to_frame().to_sparse()\n",
    "    \n",
    "    # get record matrix\n",
    "    record_matrix = record.dot(record.T)\n",
    "    upper = np.triu(record_matrix.values)\n",
    "    upper[range(upper.shape[0]),range(upper.shape[0]) ]= 0\n",
    "    record_matrix = pd.DataFrame(upper  ,index = record_matrix.index , columns = record_matrix.columns)\n",
    "\n",
    "\n",
    "    \n",
    "    field_idUsed = record_matrix.index.get_level_values(level = 'field_id')\n",
    "    index_idUsed = record_matrix.index.get_level_values(level = 'index_id')\n",
    "\n",
    "    xToFactor   = Wmatrix.loc[:,index_idUsed,field_idUsed] \n",
    "    factorToX   = xToFactor.transpose(0,2,1,copy =True)\n",
    "\n",
    "    \n",
    "    # calculate phi\n",
    "    phi = (xToFactor.values*(factorToX.values))*record_matrix.values\n",
    "    \n",
    "    \n",
    "    # ### 计算$ \\frac{\\exp{(-y\\phi)}}{1+\\exp{(-y\\phi)}}$\n",
    "    y = ydata[0]\n",
    "    g_phi = np.exp(-y*phi)/(1+np.exp(-y*phi))\n",
    "\n",
    "\n",
    "    # calculating grad\n",
    "    grad = g_phi * factorToX.values * record_matrix.values + (xToFactor.values * record_matrix.values).transpose(0,2,1)\n",
    "\n",
    "\n",
    "    orderCol = list(OrderedDict.fromkeys(label_v1))\n",
    "    counterOfCol = dict(Counter(label_v1))\n",
    "\n",
    "    \n",
    "    # get the slices so that can subtract sub matrix \n",
    "    slcs = [counterOfCol[i] for i in orderCol]\n",
    "    slcs = np.cumsum(slcs)\n",
    "    slcs = np.insert(slcs,0,0)\n",
    "    \n",
    "    grad = np.stack(\n",
    "        [\n",
    "            grad[:,slcs[i]:slcs[i+1],:].sum(1) \n",
    "                for i in range(len(slcs)-1) \n",
    "        ]\n",
    "    ).transpose(1,2,0)\n",
    "\n",
    "    for i,j in enumerate(orderCol):\n",
    "        Wmatrix.loc[:,index_idUsed,j] =        (1-lamda)*Wmatrix.loc[:,index_idUsed,j] - yita*grad[:,:,i].transpose()\n",
    "\n",
    "        \n",
    "print(Wmatrix.values)"
   ]
  },
  {
   "cell_type": "code",
   "execution_count": null,
   "metadata": {
    "collapsed": true
   },
   "outputs": [],
   "source": []
  }
 ],
 "metadata": {
  "kernelspec": {
   "display_name": "Python 3",
   "language": "python",
   "name": "python3"
  },
  "language_info": {
   "codemirror_mode": {
    "name": "ipython",
    "version": 3
   },
   "file_extension": ".py",
   "mimetype": "text/x-python",
   "name": "python",
   "nbconvert_exporter": "python",
   "pygments_lexer": "ipython3",
   "version": "3.6.2"
  }
 },
 "nbformat": 4,
 "nbformat_minor": 2
}
