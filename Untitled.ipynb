{
 "cells": [
  {
   "cell_type": "markdown",
   "metadata": {},
   "source": [
    "# ffm_mxnetVersion0.1"
   ]
  },
  {
   "cell_type": "markdown",
   "metadata": {},
   "source": [
    "## 首先测试mxnet是否具有所需要的能力"
   ]
  },
  {
   "cell_type": "markdown",
   "metadata": {},
   "source": [
    "### 关于每次只使用部分的参数"
   ]
  },
  {
   "cell_type": "code",
   "execution_count": 1,
   "metadata": {
    "collapsed": true
   },
   "outputs": [],
   "source": [
    "import mxnet as mx\n",
    "from mxnet import ndarray as nd\n",
    "import mxnet.autograd as ag"
   ]
  },
  {
   "cell_type": "code",
   "execution_count": 2,
   "metadata": {
    "collapsed": true
   },
   "outputs": [],
   "source": [
    "weight = nd.array([1,2,3,4,5])\n",
    "\n",
    "weight.attach_grad()"
   ]
  },
  {
   "cell_type": "code",
   "execution_count": 3,
   "metadata": {},
   "outputs": [
    {
     "name": "stdout",
     "output_type": "stream",
     "text": [
      "\n",
      "[ 1.  2.  3.  0.  0.]\n",
      "<NDArray 5 @cpu(0)>\n"
     ]
    }
   ],
   "source": [
    "\n",
    "with ag.record():\n",
    "    loss = nd.array([1,2,3])*weight[:3]\n",
    "\n",
    "loss.backward()\n",
    "print(weight.grad)"
   ]
  },
  {
   "cell_type": "markdown",
   "metadata": {},
   "source": [
    "### 关于能够通过抽取的方式取出参数更新"
   ]
  },
  {
   "cell_type": "code",
   "execution_count": 4,
   "metadata": {},
   "outputs": [
    {
     "name": "stdout",
     "output_type": "stream",
     "text": [
      "\n",
      "[  0.  10.   4.  27.   4.]\n",
      "<NDArray 5 @cpu(0)>\n"
     ]
    }
   ],
   "source": [
    "with ag.record():\n",
    "    tempdata  = weight[[3,4,3]]\n",
    "    tempdata2 = weight[[2,1,3]]\n",
    "    loss = nd.array([1,2,3])*tempdata*tempdata2\n",
    "    \n",
    "loss.backward()\n",
    "print(weight.grad)"
   ]
  },
  {
   "cell_type": "code",
   "execution_count": 25,
   "metadata": {},
   "outputs": [
    {
     "data": {
      "text/plain": [
       "array([2])"
      ]
     },
     "execution_count": 25,
     "metadata": {},
     "output_type": "execute_result"
    }
   ],
   "source": [
    "import numpy as np\n",
    "temp = np.array([1,2,3])\n",
    "temp[1:2]"
   ]
  },
  {
   "cell_type": "markdown",
   "metadata": {},
   "source": [
    "### 关于三维数组的使用"
   ]
  },
  {
   "cell_type": "code",
   "execution_count": 38,
   "metadata": {},
   "outputs": [
    {
     "data": {
      "text/plain": [
       "\n",
       "[[ 1.55807102 -0.54594457]\n",
       " [-2.35562968  0.54144025]]\n",
       "<NDArray 2x2 @cpu(0)>"
      ]
     },
     "execution_count": 38,
     "metadata": {},
     "output_type": "execute_result"
    }
   ],
   "source": [
    "nd.random_normal(shape=(2,2))"
   ]
  },
  {
   "cell_type": "markdown",
   "metadata": {},
   "source": [
    "## 其次完成对于矩阵按照index进行存取的方法"
   ]
  },
  {
   "cell_type": "code",
   "execution_count": 44,
   "metadata": {
    "collapsed": true
   },
   "outputs": [],
   "source": [
    "index_v1 = ['a','b','c']\n",
    "index_v2 = ['0','1','2','3','4','5']\n",
    "array = nd.random_normal(shape = (3,5))"
   ]
  },
  {
   "cell_type": "code",
   "execution_count": 46,
   "metadata": {
    "collapsed": true
   },
   "outputs": [],
   "source": [
    "# 我希望做这样的一个东西：\n",
    "# array[['a'.'a'],['2','2','4']]"
   ]
  },
  {
   "cell_type": "markdown",
   "metadata": {},
   "source": [
    "#### 解决方法：operator.itemgetter"
   ]
  },
  {
   "cell_type": "markdown",
   "metadata": {},
   "source": [
    "####  step 1:  build a dict to get a map from name to index"
   ]
  },
  {
   "cell_type": "code",
   "execution_count": 53,
   "metadata": {
    "collapsed": true
   },
   "outputs": [],
   "source": [
    "rowIndex = {'a':0,'b':1,'c':2}\n",
    "colIndex = {'0':0,'1':1,'2':2,'3':3,'4':4,'5':5}"
   ]
  },
  {
   "cell_type": "markdown",
   "metadata": {},
   "source": [
    "#### step 2: transfor the name to real index"
   ]
  },
  {
   "cell_type": "code",
   "execution_count": 55,
   "metadata": {
    "collapsed": true
   },
   "outputs": [],
   "source": [
    "from operator import itemgetter\n",
    "rowneed = ['a','a']\n",
    "colneed = ['2','2','4']\n",
    "rowReal = itemgetter(*rowneed)(rowIndex)\n",
    "colReal = itemgetter(*colneed)(colIndex)"
   ]
  },
  {
   "cell_type": "code",
   "execution_count": 56,
   "metadata": {},
   "outputs": [
    {
     "name": "stdout",
     "output_type": "stream",
     "text": [
      "(0, 0) (2, 2, 4)\n"
     ]
    }
   ],
   "source": [
    "print(rowReal,colReal)"
   ]
  },
  {
   "cell_type": "markdown",
   "metadata": {},
   "source": [
    "### step 3:  get the value from dict , and change it "
   ]
  },
  {
   "cell_type": "code",
   "execution_count": 57,
   "metadata": {
    "collapsed": true
   },
   "outputs": [],
   "source": [
    "array = nd.random_normal(shape = (3,5))"
   ]
  },
  {
   "cell_type": "code",
   "execution_count": 71,
   "metadata": {
    "collapsed": true
   },
   "outputs": [],
   "source": [
    "#use these mathod to get special row & cols\n",
    "def selectM(list1, list2):\n",
    "    row = np.array([[i] * len(list2) for i in list1])\n",
    "    col = np.array(list2 * len(list1)).reshape(len(list1), len(list2))\n",
    "    return row,col"
   ]
  },
  {
   "cell_type": "code",
   "execution_count": 73,
   "metadata": {},
   "outputs": [
    {
     "name": "stdout",
     "output_type": "stream",
     "text": [
      "[[0 0 0]\n",
      " [0 0 0]]\n",
      "[[2 2 4]\n",
      " [2 2 4]]\n"
     ]
    }
   ],
   "source": [
    "row,col = selectM(rowReal,colReal)\n",
    "print(row)\n",
    "print(col)\n"
   ]
  },
  {
   "cell_type": "code",
   "execution_count": 76,
   "metadata": {
    "collapsed": true
   },
   "outputs": [],
   "source": [
    "array[row,col] = 1"
   ]
  },
  {
   "cell_type": "code",
   "execution_count": 77,
   "metadata": {},
   "outputs": [
    {
     "data": {
      "text/plain": [
       "\n",
       "[[-1.59187567 -1.10819471  1.         -0.91856343  1.        ]\n",
       " [-1.20808625  1.81402123 -1.52274299 -2.51524496 -1.35493255]\n",
       " [-0.95748401 -0.72485566  1.11196363 -0.47827262 -1.17394924]]\n",
       "<NDArray 3x5 @cpu(0)>"
      ]
     },
     "execution_count": 77,
     "metadata": {},
     "output_type": "execute_result"
    }
   ],
   "source": [
    "array"
   ]
  },
  {
   "cell_type": "code",
   "execution_count": null,
   "metadata": {
    "collapsed": true
   },
   "outputs": [],
   "source": [
    "np.ones((4000,5)).dot(np.ones((5,))).shape"
   ]
  },
  {
   "cell_type": "markdown",
   "metadata": {
    "collapsed": true
   },
   "source": [
    "### make a function to use later"
   ]
  },
  {
   "cell_type": "code",
   "execution_count": 7,
   "metadata": {},
   "outputs": [
    {
     "data": {
      "text/plain": [
       "\n",
       "[[-1.57344317 -1.57344317  0.29670075]\n",
       " [-1.57344317 -1.57344317  0.29670075]]\n",
       "<NDArray 2x3 @cpu(0)>"
      ]
     },
     "execution_count": 7,
     "metadata": {},
     "output_type": "execute_result"
    }
   ],
   "source": [
    "import numpy as np\n",
    "rowIndex = {'a':0,'b':1,'c':2}\n",
    "colIndex = {'0':0,'1':1,'2':2,'3':3,'4':4,'5':5}\n",
    "rowneed = ['a','a']\n",
    "colneed = ['2','2','4']\n",
    "array = nd.random_normal(shape = (3,5))\n",
    "\n",
    "\n",
    "\n",
    "def selectM(list1, list2):\n",
    "    row = np.array([[i] * len(list2) for i in list1])\n",
    "    col = np.array(list2 * len(list1)).reshape(len(list1), len(list2))\n",
    "    return row,col\n",
    "\n",
    "def askByIndex(rowneed,colneed,rowIndex,colIndex):\n",
    "    from operator import itemgetter\n",
    "    rowReal = itemgetter(*rowneed)(rowIndex)\n",
    "    colReal = itemgetter(*colneed)(colIndex)\n",
    "    row,col = selectM(rowReal,colReal)\n",
    "    return row,col\n",
    "\n",
    "row,col = askByIndex(rowneed,colneed,rowIndex,colIndex)\n",
    "array[row,col]"
   ]
  },
  {
   "cell_type": "markdown",
   "metadata": {},
   "source": [
    "### make it more easier"
   ]
  },
  {
   "cell_type": "code",
   "execution_count": 33,
   "metadata": {},
   "outputs": [],
   "source": [
    "# make it more easier:\n",
    "\n",
    "class DataManageMent(object):\n",
    "    def __init__(self,rowIndex,colIndex):\n",
    "        self._rowIndex = rowIndex\n",
    "        self._colIndex = colIndex\n",
    "    \n",
    "    def selectM(self,list1, list2):\n",
    "        row = np.array([[i] * len(list2) for i in list1])\n",
    "        col = np.array(list2 * len(list1)).reshape(len(list1), len(list2))\n",
    "        return row,col\n",
    "\n",
    "    def askByIndex(self,rowneed,colneed):\n",
    "        from operator import itemgetter\n",
    "        rowReal = itemgetter(*rowneed)(self._rowIndex)\n",
    "        colReal = itemgetter(*colneed)(self._colIndex)\n",
    "        row,col = selectM(rowReal,colReal)\n",
    "        return row,col\n",
    "    def getByIndex(self,array,rowneed,colneed):\n",
    "        row , col = self.askByIndex(rowneed,colneed)\n",
    "        return array[row,col]\n"
   ]
  },
  {
   "cell_type": "code",
   "execution_count": 34,
   "metadata": {},
   "outputs": [
    {
     "data": {
      "text/plain": [
       "\n",
       "[[ 0.50805062  0.50805062  1.68393028]\n",
       " [ 0.50805062  0.50805062  1.68393028]]\n",
       "<NDArray 2x3 @cpu(0)>"
      ]
     },
     "execution_count": 34,
     "metadata": {},
     "output_type": "execute_result"
    }
   ],
   "source": [
    "import numpy as np\n",
    "\n",
    "# build a datamanager:\n",
    "rowIndex = {'a':0,'b':1,'c':2}\n",
    "colIndex = {'0':0,'1':1,'2':2,'3':3,'4':4,'5':5}\n",
    "datamanager  = DataManageMent(rowIndex,colIndex)\n",
    "\n",
    "\n",
    "rowneed = ['a','a']\n",
    "colneed = ['2','2','4']\n",
    "array = nd.random_normal(shape = (3,5))\n",
    "\n",
    "\n",
    "datamanager.getByIndex(array,rowneed,colneed)\n"
   ]
  },
  {
   "cell_type": "code",
   "execution_count": null,
   "metadata": {
    "collapsed": true
   },
   "outputs": [],
   "source": []
  }
 ],
 "metadata": {
  "kernelspec": {
   "display_name": "Python 3",
   "language": "python",
   "name": "python3"
  },
  "language_info": {
   "codemirror_mode": {
    "name": "ipython",
    "version": 3
   },
   "file_extension": ".py",
   "mimetype": "text/x-python",
   "name": "python",
   "nbconvert_exporter": "python",
   "pygments_lexer": "ipython3",
   "version": "3.6.2"
  }
 },
 "nbformat": 4,
 "nbformat_minor": 2
}
