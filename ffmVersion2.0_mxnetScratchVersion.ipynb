{
 "cells": [
  {
   "cell_type": "markdown",
   "metadata": {},
   "source": [
    "# ffm_mxnetVersion0.1"
   ]
  },
  {
   "cell_type": "markdown",
   "metadata": {},
   "source": [
    "## 首先测试mxnet是否具有所需要的能力"
   ]
  },
  {
   "cell_type": "markdown",
   "metadata": {},
   "source": [
    "### 关于每次只使用部分的参数"
   ]
  },
  {
   "cell_type": "code",
   "execution_count": 1,
   "metadata": {
    "collapsed": true
   },
   "outputs": [],
   "source": [
    "import mxnet as mx\n",
    "from mxnet import ndarray as nd\n",
    "import mxnet.autograd as ag"
   ]
  },
  {
   "cell_type": "code",
   "execution_count": 2,
   "metadata": {
    "collapsed": true
   },
   "outputs": [],
   "source": [
    "weight = nd.array([1,2,3,4,5])\n",
    "\n",
    "weight.attach_grad()"
   ]
  },
  {
   "cell_type": "code",
   "execution_count": 3,
   "metadata": {},
   "outputs": [
    {
     "name": "stdout",
     "output_type": "stream",
     "text": [
      "\n",
      "[1. 2. 3. 0. 0.]\n",
      "<NDArray 5 @cpu(0)>\n"
     ]
    }
   ],
   "source": [
    "\n",
    "with ag.record():\n",
    "    loss = nd.array([1,2,3])*weight[:3]\n",
    "\n",
    "loss.backward()\n",
    "print(weight.grad)"
   ]
  },
  {
   "cell_type": "markdown",
   "metadata": {},
   "source": [
    "### 关于能够通过抽取的方式取出参数更新"
   ]
  },
  {
   "cell_type": "code",
   "execution_count": 7,
   "metadata": {},
   "outputs": [
    {
     "name": "stdout",
     "output_type": "stream",
     "text": [
      "\n",
      "[ 0. 10.  4. 27.  4.]\n",
      "<NDArray 5 @cpu(0)>\n"
     ]
    }
   ],
   "source": [
    "with ag.record():\n",
    "    tempdata  = weight[[3,4,3]]\n",
    "    tempdata2 = weight[[2,1,3]]\n",
    "    loss = nd.array([1,2,3])*tempdata*tempdata2\n",
    "    \n",
    "loss.backward()\n",
    "print(weight.grad)"
   ]
  },
  {
   "cell_type": "code",
   "execution_count": 8,
   "metadata": {},
   "outputs": [
    {
     "data": {
      "text/plain": [
       "array([2])"
      ]
     },
     "execution_count": 8,
     "metadata": {},
     "output_type": "execute_result"
    }
   ],
   "source": [
    "import numpy as np\n",
    "temp = np.array([1,2,3])\n",
    "temp[1:2]"
   ]
  },
  {
   "cell_type": "markdown",
   "metadata": {},
   "source": [
    "### 关于三维数组的使用"
   ]
  },
  {
   "cell_type": "code",
   "execution_count": 9,
   "metadata": {},
   "outputs": [
    {
     "data": {
      "text/plain": [
       "\n",
       "[[1.1630785  0.4838046 ]\n",
       " [0.29956347 0.15302546]]\n",
       "<NDArray 2x2 @cpu(0)>"
      ]
     },
     "execution_count": 9,
     "metadata": {},
     "output_type": "execute_result"
    }
   ],
   "source": [
    "nd.random_normal(shape=(2,2))"
   ]
  },
  {
   "cell_type": "markdown",
   "metadata": {},
   "source": [
    "## 其次完成对于矩阵按照index进行存取的方法"
   ]
  },
  {
   "cell_type": "code",
   "execution_count": 10,
   "metadata": {
    "collapsed": true
   },
   "outputs": [],
   "source": [
    "index_v1 = ['a','b','c']\n",
    "index_v2 = ['0','1','2','3','4','5']\n",
    "array = nd.random_normal(shape = (3,5))"
   ]
  },
  {
   "cell_type": "code",
   "execution_count": 11,
   "metadata": {
    "collapsed": true
   },
   "outputs": [],
   "source": [
    "# 我希望做这样的一个东西：\n",
    "# array[['a'.'a'],['2','2','4']]"
   ]
  },
  {
   "cell_type": "markdown",
   "metadata": {},
   "source": [
    "#### 解决方法：operator.itemgetter"
   ]
  },
  {
   "cell_type": "markdown",
   "metadata": {},
   "source": [
    "####  step 1:  build a dict to get a map from name to index"
   ]
  },
  {
   "cell_type": "code",
   "execution_count": 12,
   "metadata": {
    "collapsed": true
   },
   "outputs": [],
   "source": [
    "rowIndex = {'a':0,'b':1,'c':2}\n",
    "colIndex = {'0':0,'1':1,'2':2,'3':3,'4':4,'5':5}"
   ]
  },
  {
   "cell_type": "markdown",
   "metadata": {},
   "source": [
    "#### step 2: transfor the name to real index"
   ]
  },
  {
   "cell_type": "code",
   "execution_count": 13,
   "metadata": {
    "collapsed": true
   },
   "outputs": [],
   "source": [
    "from operator import itemgetter\n",
    "rowneed = ['a','a']\n",
    "colneed = ['2','2','4']\n",
    "rowReal = itemgetter(*rowneed)(rowIndex)\n",
    "colReal = itemgetter(*colneed)(colIndex)"
   ]
  },
  {
   "cell_type": "code",
   "execution_count": 14,
   "metadata": {},
   "outputs": [
    {
     "name": "stdout",
     "output_type": "stream",
     "text": [
      "(0, 0) (2, 2, 4)\n"
     ]
    }
   ],
   "source": [
    "print(rowReal,colReal)"
   ]
  },
  {
   "cell_type": "markdown",
   "metadata": {},
   "source": [
    "### step 3:  get the value from dict , and change it "
   ]
  },
  {
   "cell_type": "code",
   "execution_count": 15,
   "metadata": {
    "collapsed": true
   },
   "outputs": [],
   "source": [
    "array = nd.random_normal(shape = (3,5))"
   ]
  },
  {
   "cell_type": "code",
   "execution_count": 16,
   "metadata": {
    "collapsed": true
   },
   "outputs": [],
   "source": [
    "#use these mathod to get special row & cols\n",
    "def selectM(list1, list2):\n",
    "    row = np.array([[i] * len(list2) for i in list1])\n",
    "    col = np.array(list2 * len(list1)).reshape(len(list1), len(list2))\n",
    "    return row,col"
   ]
  },
  {
   "cell_type": "code",
   "execution_count": 17,
   "metadata": {},
   "outputs": [
    {
     "name": "stdout",
     "output_type": "stream",
     "text": [
      "[[0 0 0]\n",
      " [0 0 0]]\n",
      "[[2 2 4]\n",
      " [2 2 4]]\n"
     ]
    }
   ],
   "source": [
    "row,col = selectM(rowReal,colReal)\n",
    "print(row)\n",
    "print(col)\n"
   ]
  },
  {
   "cell_type": "code",
   "execution_count": 18,
   "metadata": {
    "collapsed": true
   },
   "outputs": [],
   "source": [
    "array[row,col] = 1"
   ]
  },
  {
   "cell_type": "code",
   "execution_count": 19,
   "metadata": {},
   "outputs": [
    {
     "data": {
      "text/plain": [
       "\n",
       "[[-0.6141325   1.8307649   1.          0.05383794  1.        ]\n",
       " [-0.5916499   0.85860497 -0.22794183  0.20131476  0.3500547 ]\n",
       " [ 0.5360521   1.5194443   1.9040879  -1.5734432  -0.14007866]]\n",
       "<NDArray 3x5 @cpu(0)>"
      ]
     },
     "execution_count": 19,
     "metadata": {},
     "output_type": "execute_result"
    }
   ],
   "source": [
    "array"
   ]
  },
  {
   "cell_type": "code",
   "execution_count": 20,
   "metadata": {},
   "outputs": [
    {
     "data": {
      "text/plain": [
       "(4000,)"
      ]
     },
     "execution_count": 20,
     "metadata": {},
     "output_type": "execute_result"
    }
   ],
   "source": [
    "np.ones((4000,5)).dot(np.ones((5,))).shape"
   ]
  },
  {
   "cell_type": "markdown",
   "metadata": {
    "collapsed": true
   },
   "source": [
    "### make a function to use later"
   ]
  },
  {
   "cell_type": "code",
   "execution_count": 21,
   "metadata": {},
   "outputs": [
    {
     "data": {
      "text/plain": [
       "\n",
       "[[ 0.5035904   0.5035904  -0.55021375]\n",
       " [ 0.5035904   0.5035904  -0.55021375]]\n",
       "<NDArray 2x3 @cpu(0)>"
      ]
     },
     "execution_count": 21,
     "metadata": {},
     "output_type": "execute_result"
    }
   ],
   "source": [
    "import numpy as np\n",
    "rowIndex = {'a':0,'b':1,'c':2}\n",
    "colIndex = {'0':0,'1':1,'2':2,'3':3,'4':4,'5':5}\n",
    "rowneed = ['a','a']\n",
    "colneed = ['2','2','4']\n",
    "array = nd.random_normal(shape = (3,5))\n",
    "\n",
    "\n",
    "\n",
    "def selectM(list1, list2):\n",
    "    row = np.array([[i] * len(list2) for i in list1])\n",
    "    col = np.array(list2 * len(list1)).reshape(len(list1), len(list2))\n",
    "    return row,col\n",
    "\n",
    "def askByIndex(rowneed,colneed,rowIndex,colIndex):\n",
    "    from operator import itemgetter\n",
    "    rowReal = itemgetter(*rowneed)(rowIndex)\n",
    "    colReal = itemgetter(*colneed)(colIndex)\n",
    "    row,col = selectM(rowReal,colReal)\n",
    "    return row,col\n",
    "\n",
    "row,col = askByIndex(rowneed,colneed,rowIndex,colIndex)\n",
    "array[row,col]"
   ]
  },
  {
   "cell_type": "markdown",
   "metadata": {},
   "source": [
    "### make it more easier"
   ]
  },
  {
   "cell_type": "code",
   "execution_count": 22,
   "metadata": {
    "collapsed": true
   },
   "outputs": [],
   "source": [
    "# make it more easier:\n",
    "\n",
    "class DataManageMent(object):\n",
    "    def __init__(self,rowIndex,colIndex):\n",
    "        self._rowIndex = rowIndex\n",
    "        self._colIndex = colIndex\n",
    "    \n",
    "    def selectM(self,list1, list2):\n",
    "        row = np.array([[i] * len(list2) for i in list1])\n",
    "        col = np.array(list2 * len(list1)).reshape(len(list1), len(list2))\n",
    "        return row,col\n",
    "\n",
    "    def askByIndex(self,rowneed,colneed):\n",
    "        from operator import itemgetter\n",
    "        rowReal = itemgetter(*rowneed)(self._rowIndex)\n",
    "        colReal = itemgetter(*colneed)(self._colIndex)\n",
    "        row,col = selectM(rowReal,colReal)\n",
    "        return row,col\n",
    "    def getByIndex(self,array,rowneed,colneed):\n",
    "        row , col = self.askByIndex(rowneed,colneed)\n",
    "        return array[row,col]\n"
   ]
  },
  {
   "cell_type": "code",
   "execution_count": 23,
   "metadata": {},
   "outputs": [
    {
     "data": {
      "text/plain": [
       "\n",
       "[[ 1.1119636  1.1119636 -1.1739492]\n",
       " [ 1.1119636  1.1119636 -1.1739492]]\n",
       "<NDArray 2x3 @cpu(0)>"
      ]
     },
     "execution_count": 23,
     "metadata": {},
     "output_type": "execute_result"
    }
   ],
   "source": [
    "import numpy as np\n",
    "\n",
    "# build a datamanager:\n",
    "rowIndex = {'a':0,'b':1,'c':2}\n",
    "colIndex = {'0':0,'1':1,'2':2,'3':3,'4':4,'5':5}\n",
    "datamanager  = DataManageMent(rowIndex,colIndex)\n",
    "\n",
    "\n",
    "rowneed = ['a','a']\n",
    "colneed = ['2','2','4']\n",
    "array = nd.random_normal(shape = (3,5))\n",
    "\n",
    "\n",
    "datamanager.getByIndex(array,rowneed,colneed)\n"
   ]
  },
  {
   "cell_type": "markdown",
   "metadata": {
    "collapsed": true
   },
   "source": [
    "# mxnet version"
   ]
  },
  {
   "cell_type": "code",
   "execution_count": 4,
   "metadata": {
    "collapsed": true
   },
   "outputs": [],
   "source": [
    "import pandas as pd\n",
    "import numpy as np\n",
    "import os\n",
    "np.set_printoptions(precision=2,linewidth=100)"
   ]
  },
  {
   "cell_type": "code",
   "execution_count": 5,
   "metadata": {},
   "outputs": [
    {
     "data": {
      "text/html": [
       "<div>\n",
       "<style>\n",
       "    .dataframe thead tr:only-child th {\n",
       "        text-align: right;\n",
       "    }\n",
       "\n",
       "    .dataframe thead th {\n",
       "        text-align: left;\n",
       "    }\n",
       "\n",
       "    .dataframe tbody tr th {\n",
       "        vertical-align: top;\n",
       "    }\n",
       "</style>\n",
       "<table border=\"1\" class=\"dataframe\">\n",
       "  <thead>\n",
       "    <tr style=\"text-align: right;\">\n",
       "      <th></th>\n",
       "      <th>Id</th>\n",
       "      <th>Label</th>\n",
       "      <th>I1</th>\n",
       "      <th>I2</th>\n",
       "      <th>I3</th>\n",
       "      <th>I4</th>\n",
       "      <th>I5</th>\n",
       "      <th>I6</th>\n",
       "      <th>I7</th>\n",
       "      <th>I8</th>\n",
       "      <th>...</th>\n",
       "      <th>C17</th>\n",
       "      <th>C18</th>\n",
       "      <th>C19</th>\n",
       "      <th>C20</th>\n",
       "      <th>C21</th>\n",
       "      <th>C22</th>\n",
       "      <th>C23</th>\n",
       "      <th>C24</th>\n",
       "      <th>C25</th>\n",
       "      <th>C26</th>\n",
       "    </tr>\n",
       "  </thead>\n",
       "  <tbody>\n",
       "    <tr>\n",
       "      <th>0</th>\n",
       "      <td>10000000</td>\n",
       "      <td>0</td>\n",
       "      <td>1.0</td>\n",
       "      <td>1</td>\n",
       "      <td>5.0</td>\n",
       "      <td>0.0</td>\n",
       "      <td>1382.0</td>\n",
       "      <td>4.0</td>\n",
       "      <td>15.0</td>\n",
       "      <td>2.0</td>\n",
       "      <td>...</td>\n",
       "      <td>e5ba7672</td>\n",
       "      <td>f54016b9</td>\n",
       "      <td>21ddcdc9</td>\n",
       "      <td>b1252a9d</td>\n",
       "      <td>07b5194c</td>\n",
       "      <td>NaN</td>\n",
       "      <td>3a171ecb</td>\n",
       "      <td>c5c50484</td>\n",
       "      <td>e8b83407</td>\n",
       "      <td>9727dd16</td>\n",
       "    </tr>\n",
       "    <tr>\n",
       "      <th>1</th>\n",
       "      <td>10000001</td>\n",
       "      <td>0</td>\n",
       "      <td>2.0</td>\n",
       "      <td>0</td>\n",
       "      <td>44.0</td>\n",
       "      <td>1.0</td>\n",
       "      <td>102.0</td>\n",
       "      <td>8.0</td>\n",
       "      <td>2.0</td>\n",
       "      <td>2.0</td>\n",
       "      <td>...</td>\n",
       "      <td>07c540c4</td>\n",
       "      <td>b04e4670</td>\n",
       "      <td>21ddcdc9</td>\n",
       "      <td>5840adea</td>\n",
       "      <td>60f6221e</td>\n",
       "      <td>NaN</td>\n",
       "      <td>3a171ecb</td>\n",
       "      <td>43f13e8b</td>\n",
       "      <td>e8b83407</td>\n",
       "      <td>731c3655</td>\n",
       "    </tr>\n",
       "    <tr>\n",
       "      <th>2</th>\n",
       "      <td>10000002</td>\n",
       "      <td>0</td>\n",
       "      <td>2.0</td>\n",
       "      <td>0</td>\n",
       "      <td>1.0</td>\n",
       "      <td>14.0</td>\n",
       "      <td>767.0</td>\n",
       "      <td>89.0</td>\n",
       "      <td>4.0</td>\n",
       "      <td>2.0</td>\n",
       "      <td>...</td>\n",
       "      <td>8efede7f</td>\n",
       "      <td>3412118d</td>\n",
       "      <td>NaN</td>\n",
       "      <td>NaN</td>\n",
       "      <td>e587c466</td>\n",
       "      <td>ad3062eb</td>\n",
       "      <td>3a171ecb</td>\n",
       "      <td>3b183c5c</td>\n",
       "      <td>NaN</td>\n",
       "      <td>NaN</td>\n",
       "    </tr>\n",
       "    <tr>\n",
       "      <th>3</th>\n",
       "      <td>10000003</td>\n",
       "      <td>0</td>\n",
       "      <td>NaN</td>\n",
       "      <td>893</td>\n",
       "      <td>NaN</td>\n",
       "      <td>NaN</td>\n",
       "      <td>4392.0</td>\n",
       "      <td>NaN</td>\n",
       "      <td>0.0</td>\n",
       "      <td>0.0</td>\n",
       "      <td>...</td>\n",
       "      <td>1e88c74f</td>\n",
       "      <td>74ef3502</td>\n",
       "      <td>NaN</td>\n",
       "      <td>NaN</td>\n",
       "      <td>6b3a5ca6</td>\n",
       "      <td>NaN</td>\n",
       "      <td>3a171ecb</td>\n",
       "      <td>9117a34a</td>\n",
       "      <td>NaN</td>\n",
       "      <td>NaN</td>\n",
       "    </tr>\n",
       "    <tr>\n",
       "      <th>4</th>\n",
       "      <td>10000004</td>\n",
       "      <td>0</td>\n",
       "      <td>3.0</td>\n",
       "      <td>-1</td>\n",
       "      <td>NaN</td>\n",
       "      <td>0.0</td>\n",
       "      <td>2.0</td>\n",
       "      <td>0.0</td>\n",
       "      <td>3.0</td>\n",
       "      <td>0.0</td>\n",
       "      <td>...</td>\n",
       "      <td>1e88c74f</td>\n",
       "      <td>26b3c7a7</td>\n",
       "      <td>NaN</td>\n",
       "      <td>NaN</td>\n",
       "      <td>21c9516a</td>\n",
       "      <td>NaN</td>\n",
       "      <td>32c7478e</td>\n",
       "      <td>b34f3128</td>\n",
       "      <td>NaN</td>\n",
       "      <td>NaN</td>\n",
       "    </tr>\n",
       "  </tbody>\n",
       "</table>\n",
       "<p>5 rows × 41 columns</p>\n",
       "</div>"
      ],
      "text/plain": [
       "         Id  Label   I1   I2    I3    I4      I5    I6    I7   I8    ...     \\\n",
       "0  10000000      0  1.0    1   5.0   0.0  1382.0   4.0  15.0  2.0    ...      \n",
       "1  10000001      0  2.0    0  44.0   1.0   102.0   8.0   2.0  2.0    ...      \n",
       "2  10000002      0  2.0    0   1.0  14.0   767.0  89.0   4.0  2.0    ...      \n",
       "3  10000003      0  NaN  893   NaN   NaN  4392.0   NaN   0.0  0.0    ...      \n",
       "4  10000004      0  3.0   -1   NaN   0.0     2.0   0.0   3.0  0.0    ...      \n",
       "\n",
       "        C17       C18       C19       C20       C21       C22       C23  \\\n",
       "0  e5ba7672  f54016b9  21ddcdc9  b1252a9d  07b5194c       NaN  3a171ecb   \n",
       "1  07c540c4  b04e4670  21ddcdc9  5840adea  60f6221e       NaN  3a171ecb   \n",
       "2  8efede7f  3412118d       NaN       NaN  e587c466  ad3062eb  3a171ecb   \n",
       "3  1e88c74f  74ef3502       NaN       NaN  6b3a5ca6       NaN  3a171ecb   \n",
       "4  1e88c74f  26b3c7a7       NaN       NaN  21c9516a       NaN  32c7478e   \n",
       "\n",
       "        C24       C25       C26  \n",
       "0  c5c50484  e8b83407  9727dd16  \n",
       "1  43f13e8b  e8b83407  731c3655  \n",
       "2  3b183c5c       NaN       NaN  \n",
       "3  9117a34a       NaN       NaN  \n",
       "4  b34f3128       NaN       NaN  \n",
       "\n",
       "[5 rows x 41 columns]"
      ]
     },
     "execution_count": 5,
     "metadata": {},
     "output_type": "execute_result"
    }
   ],
   "source": [
    "trainSet = pd.read_csv(\"train.tiny-Copy1.csv\")\n",
    "trainSet.head()\n"
   ]
  },
  {
   "cell_type": "markdown",
   "metadata": {},
   "source": [
    "### 暂时跳过缺失值处理"
   ]
  },
  {
   "cell_type": "code",
   "execution_count": 6,
   "metadata": {},
   "outputs": [
    {
     "data": {
      "text/html": [
       "<div>\n",
       "<style>\n",
       "    .dataframe thead tr:only-child th {\n",
       "        text-align: right;\n",
       "    }\n",
       "\n",
       "    .dataframe thead th {\n",
       "        text-align: left;\n",
       "    }\n",
       "\n",
       "    .dataframe tbody tr th {\n",
       "        vertical-align: top;\n",
       "    }\n",
       "</style>\n",
       "<table border=\"1\" class=\"dataframe\">\n",
       "  <thead>\n",
       "    <tr style=\"text-align: right;\">\n",
       "      <th></th>\n",
       "      <th>Id</th>\n",
       "      <th>Label</th>\n",
       "      <th>I1</th>\n",
       "      <th>I2</th>\n",
       "      <th>I3</th>\n",
       "      <th>I4</th>\n",
       "      <th>I5</th>\n",
       "      <th>I6</th>\n",
       "      <th>I7</th>\n",
       "      <th>I8</th>\n",
       "      <th>...</th>\n",
       "      <th>C17</th>\n",
       "      <th>C18</th>\n",
       "      <th>C19</th>\n",
       "      <th>C20</th>\n",
       "      <th>C21</th>\n",
       "      <th>C22</th>\n",
       "      <th>C23</th>\n",
       "      <th>C24</th>\n",
       "      <th>C25</th>\n",
       "      <th>C26</th>\n",
       "    </tr>\n",
       "  </thead>\n",
       "  <tbody>\n",
       "    <tr>\n",
       "      <th>35</th>\n",
       "      <td>10000035</td>\n",
       "      <td>1</td>\n",
       "      <td>0.0</td>\n",
       "      <td>127</td>\n",
       "      <td>1.0</td>\n",
       "      <td>3.0</td>\n",
       "      <td>1683.0</td>\n",
       "      <td>19.0</td>\n",
       "      <td>26.0</td>\n",
       "      <td>17.0</td>\n",
       "      <td>...</td>\n",
       "      <td>8efede7f</td>\n",
       "      <td>bd17c3da</td>\n",
       "      <td>f6a3e43b</td>\n",
       "      <td>a458ea53</td>\n",
       "      <td>35cd95c9</td>\n",
       "      <td>ad3062eb</td>\n",
       "      <td>c7dc6720</td>\n",
       "      <td>3fdb382b</td>\n",
       "      <td>010f6491</td>\n",
       "      <td>49d68486</td>\n",
       "    </tr>\n",
       "    <tr>\n",
       "      <th>256</th>\n",
       "      <td>10000256</td>\n",
       "      <td>0</td>\n",
       "      <td>4.0</td>\n",
       "      <td>0</td>\n",
       "      <td>128.0</td>\n",
       "      <td>42.0</td>\n",
       "      <td>7.0</td>\n",
       "      <td>44.0</td>\n",
       "      <td>4.0</td>\n",
       "      <td>44.0</td>\n",
       "      <td>...</td>\n",
       "      <td>27c07bd6</td>\n",
       "      <td>bc5a0ff7</td>\n",
       "      <td>083e89d9</td>\n",
       "      <td>a458ea53</td>\n",
       "      <td>ac3aac58</td>\n",
       "      <td>c9d4222a</td>\n",
       "      <td>32c7478e</td>\n",
       "      <td>8e183052</td>\n",
       "      <td>001f3601</td>\n",
       "      <td>b4aa4b3d</td>\n",
       "    </tr>\n",
       "    <tr>\n",
       "      <th>328</th>\n",
       "      <td>10000328</td>\n",
       "      <td>0</td>\n",
       "      <td>3.0</td>\n",
       "      <td>0</td>\n",
       "      <td>27.0</td>\n",
       "      <td>26.0</td>\n",
       "      <td>25.0</td>\n",
       "      <td>37.0</td>\n",
       "      <td>14.0</td>\n",
       "      <td>22.0</td>\n",
       "      <td>...</td>\n",
       "      <td>e5ba7672</td>\n",
       "      <td>456d734d</td>\n",
       "      <td>4764bf77</td>\n",
       "      <td>a458ea53</td>\n",
       "      <td>52fa6318</td>\n",
       "      <td>ad3062eb</td>\n",
       "      <td>3a171ecb</td>\n",
       "      <td>3e90e1b2</td>\n",
       "      <td>724b04da</td>\n",
       "      <td>26c64313</td>\n",
       "    </tr>\n",
       "    <tr>\n",
       "      <th>338</th>\n",
       "      <td>10000338</td>\n",
       "      <td>0</td>\n",
       "      <td>0.0</td>\n",
       "      <td>1</td>\n",
       "      <td>2.0</td>\n",
       "      <td>14.0</td>\n",
       "      <td>2109.0</td>\n",
       "      <td>43.0</td>\n",
       "      <td>7.0</td>\n",
       "      <td>18.0</td>\n",
       "      <td>...</td>\n",
       "      <td>3486227d</td>\n",
       "      <td>df4fffb7</td>\n",
       "      <td>21ddcdc9</td>\n",
       "      <td>b1252a9d</td>\n",
       "      <td>53fbce39</td>\n",
       "      <td>c9d4222a</td>\n",
       "      <td>32c7478e</td>\n",
       "      <td>57ef7a21</td>\n",
       "      <td>010f6491</td>\n",
       "      <td>779ff446</td>\n",
       "    </tr>\n",
       "  </tbody>\n",
       "</table>\n",
       "<p>4 rows × 41 columns</p>\n",
       "</div>"
      ],
      "text/plain": [
       "           Id  Label   I1   I2     I3    I4      I5    I6    I7    I8  \\\n",
       "35   10000035      1  0.0  127    1.0   3.0  1683.0  19.0  26.0  17.0   \n",
       "256  10000256      0  4.0    0  128.0  42.0     7.0  44.0   4.0  44.0   \n",
       "328  10000328      0  3.0    0   27.0  26.0    25.0  37.0  14.0  22.0   \n",
       "338  10000338      0  0.0    1    2.0  14.0  2109.0  43.0   7.0  18.0   \n",
       "\n",
       "       ...          C17       C18       C19       C20       C21       C22  \\\n",
       "35     ...     8efede7f  bd17c3da  f6a3e43b  a458ea53  35cd95c9  ad3062eb   \n",
       "256    ...     27c07bd6  bc5a0ff7  083e89d9  a458ea53  ac3aac58  c9d4222a   \n",
       "328    ...     e5ba7672  456d734d  4764bf77  a458ea53  52fa6318  ad3062eb   \n",
       "338    ...     3486227d  df4fffb7  21ddcdc9  b1252a9d  53fbce39  c9d4222a   \n",
       "\n",
       "          C23       C24       C25       C26  \n",
       "35   c7dc6720  3fdb382b  010f6491  49d68486  \n",
       "256  32c7478e  8e183052  001f3601  b4aa4b3d  \n",
       "328  3a171ecb  3e90e1b2  724b04da  26c64313  \n",
       "338  32c7478e  57ef7a21  010f6491  779ff446  \n",
       "\n",
       "[4 rows x 41 columns]"
      ]
     },
     "execution_count": 6,
     "metadata": {},
     "output_type": "execute_result"
    }
   ],
   "source": [
    "trainSet = trainSet.dropna(how = 'any')\n",
    "trainSet.head(4)"
   ]
  },
  {
   "cell_type": "markdown",
   "metadata": {},
   "source": [
    "### 归一处理\n",
    "- 注意这里I3的值很大，在处理过程中会出事的，所以必要时需要对于连续变量做归一化处理"
   ]
  },
  {
   "cell_type": "code",
   "execution_count": 7,
   "metadata": {
    "collapsed": true
   },
   "outputs": [],
   "source": [
    "pass"
   ]
  },
  {
   "cell_type": "markdown",
   "metadata": {
    "collapsed": true
   },
   "source": [
    "### 取出局部资源来调试算法\n",
    "- 注意：实际中应当把训练集和测试集统一进行编号"
   ]
  },
  {
   "cell_type": "code",
   "execution_count": 8,
   "metadata": {},
   "outputs": [
    {
     "data": {
      "text/html": [
       "<div>\n",
       "<style>\n",
       "    .dataframe thead tr:only-child th {\n",
       "        text-align: right;\n",
       "    }\n",
       "\n",
       "    .dataframe thead th {\n",
       "        text-align: left;\n",
       "    }\n",
       "\n",
       "    .dataframe tbody tr th {\n",
       "        vertical-align: top;\n",
       "    }\n",
       "</style>\n",
       "<table border=\"1\" class=\"dataframe\">\n",
       "  <thead>\n",
       "    <tr style=\"text-align: right;\">\n",
       "      <th></th>\n",
       "      <th>Label</th>\n",
       "      <th>I1</th>\n",
       "      <th>I2</th>\n",
       "      <th>C17</th>\n",
       "      <th>C18</th>\n",
       "      <th>C19</th>\n",
       "    </tr>\n",
       "  </thead>\n",
       "  <tbody>\n",
       "    <tr>\n",
       "      <th>0</th>\n",
       "      <td>1</td>\n",
       "      <td>0.0</td>\n",
       "      <td>127</td>\n",
       "      <td>8efede7f</td>\n",
       "      <td>bd17c3da</td>\n",
       "      <td>f6a3e43b</td>\n",
       "    </tr>\n",
       "    <tr>\n",
       "      <th>1</th>\n",
       "      <td>0</td>\n",
       "      <td>4.0</td>\n",
       "      <td>0</td>\n",
       "      <td>27c07bd6</td>\n",
       "      <td>bc5a0ff7</td>\n",
       "      <td>083e89d9</td>\n",
       "    </tr>\n",
       "    <tr>\n",
       "      <th>2</th>\n",
       "      <td>0</td>\n",
       "      <td>3.0</td>\n",
       "      <td>0</td>\n",
       "      <td>e5ba7672</td>\n",
       "      <td>456d734d</td>\n",
       "      <td>4764bf77</td>\n",
       "    </tr>\n",
       "    <tr>\n",
       "      <th>3</th>\n",
       "      <td>0</td>\n",
       "      <td>0.0</td>\n",
       "      <td>1</td>\n",
       "      <td>3486227d</td>\n",
       "      <td>df4fffb7</td>\n",
       "      <td>21ddcdc9</td>\n",
       "    </tr>\n",
       "    <tr>\n",
       "      <th>4</th>\n",
       "      <td>0</td>\n",
       "      <td>1.0</td>\n",
       "      <td>0</td>\n",
       "      <td>27c07bd6</td>\n",
       "      <td>a78bd508</td>\n",
       "      <td>21ddcdc9</td>\n",
       "    </tr>\n",
       "  </tbody>\n",
       "</table>\n",
       "</div>"
      ],
      "text/plain": [
       "   Label   I1   I2       C17       C18       C19\n",
       "0      1  0.0  127  8efede7f  bd17c3da  f6a3e43b\n",
       "1      0  4.0    0  27c07bd6  bc5a0ff7  083e89d9\n",
       "2      0  3.0    0  e5ba7672  456d734d  4764bf77\n",
       "3      0  0.0    1  3486227d  df4fffb7  21ddcdc9\n",
       "4      0  1.0    0  27c07bd6  a78bd508  21ddcdc9"
      ]
     },
     "execution_count": 8,
     "metadata": {},
     "output_type": "execute_result"
    }
   ],
   "source": [
    "trainSet = trainSet.loc[:,['Label','I1','I2','C17','C18','C19']].head()\n",
    "trainSet.reset_index(inplace=True,drop=True)\n",
    "trainSet"
   ]
  },
  {
   "cell_type": "markdown",
   "metadata": {},
   "source": [
    "### change type so it can be done"
   ]
  },
  {
   "cell_type": "code",
   "execution_count": 9,
   "metadata": {
    "collapsed": true
   },
   "outputs": [],
   "source": [
    "target = trainSet.Label\n",
    "trainSet = trainSet.drop( 'Label',axis=1)\n",
    "categories = ['C17','C18','C19']\n",
    "continues  = ['I1','I2']\n",
    "\n",
    "# attentsion : 这样的apply是一个逐列的处理\n",
    "trainSet.loc[:,categories] = trainSet.loc[:,categories].apply(lambda x : x.astype('category'))\n",
    "trainSet.loc[:,continues] = trainSet.loc[:,continues].apply(lambda x : x.astype('float32'))\n"
   ]
  },
  {
   "cell_type": "markdown",
   "metadata": {},
   "source": [
    "### get dummies"
   ]
  },
  {
   "cell_type": "code",
   "execution_count": 10,
   "metadata": {
    "collapsed": true
   },
   "outputs": [],
   "source": [
    "xdata_trnsf = pd.get_dummies(trainSet,prefix=categories,prefix_sep = \":\",sparse = True)\n"
   ]
  },
  {
   "cell_type": "code",
   "execution_count": 11,
   "metadata": {},
   "outputs": [
    {
     "data": {
      "text/html": [
       "<div>\n",
       "<style>\n",
       "    .dataframe thead tr:only-child th {\n",
       "        text-align: right;\n",
       "    }\n",
       "\n",
       "    .dataframe thead th {\n",
       "        text-align: left;\n",
       "    }\n",
       "\n",
       "    .dataframe tbody tr th {\n",
       "        vertical-align: top;\n",
       "    }\n",
       "</style>\n",
       "<table border=\"1\" class=\"dataframe\">\n",
       "  <thead>\n",
       "    <tr style=\"text-align: right;\">\n",
       "      <th></th>\n",
       "      <th>I1</th>\n",
       "      <th>I2</th>\n",
       "      <th>C17:27c07bd6</th>\n",
       "      <th>C17:3486227d</th>\n",
       "      <th>C17:8efede7f</th>\n",
       "      <th>C17:e5ba7672</th>\n",
       "      <th>C18:456d734d</th>\n",
       "      <th>C18:a78bd508</th>\n",
       "      <th>C18:bc5a0ff7</th>\n",
       "      <th>C18:bd17c3da</th>\n",
       "      <th>C18:df4fffb7</th>\n",
       "      <th>C19:083e89d9</th>\n",
       "      <th>C19:21ddcdc9</th>\n",
       "      <th>C19:4764bf77</th>\n",
       "      <th>C19:f6a3e43b</th>\n",
       "    </tr>\n",
       "  </thead>\n",
       "  <tbody>\n",
       "    <tr>\n",
       "      <th>0</th>\n",
       "      <td>0.0</td>\n",
       "      <td>127.0</td>\n",
       "      <td>0</td>\n",
       "      <td>0</td>\n",
       "      <td>1</td>\n",
       "      <td>0</td>\n",
       "      <td>0</td>\n",
       "      <td>0</td>\n",
       "      <td>0</td>\n",
       "      <td>1</td>\n",
       "      <td>0</td>\n",
       "      <td>0</td>\n",
       "      <td>0</td>\n",
       "      <td>0</td>\n",
       "      <td>1</td>\n",
       "    </tr>\n",
       "    <tr>\n",
       "      <th>1</th>\n",
       "      <td>4.0</td>\n",
       "      <td>0.0</td>\n",
       "      <td>1</td>\n",
       "      <td>0</td>\n",
       "      <td>0</td>\n",
       "      <td>0</td>\n",
       "      <td>0</td>\n",
       "      <td>0</td>\n",
       "      <td>1</td>\n",
       "      <td>0</td>\n",
       "      <td>0</td>\n",
       "      <td>1</td>\n",
       "      <td>0</td>\n",
       "      <td>0</td>\n",
       "      <td>0</td>\n",
       "    </tr>\n",
       "    <tr>\n",
       "      <th>2</th>\n",
       "      <td>3.0</td>\n",
       "      <td>0.0</td>\n",
       "      <td>0</td>\n",
       "      <td>0</td>\n",
       "      <td>0</td>\n",
       "      <td>1</td>\n",
       "      <td>1</td>\n",
       "      <td>0</td>\n",
       "      <td>0</td>\n",
       "      <td>0</td>\n",
       "      <td>0</td>\n",
       "      <td>0</td>\n",
       "      <td>0</td>\n",
       "      <td>1</td>\n",
       "      <td>0</td>\n",
       "    </tr>\n",
       "    <tr>\n",
       "      <th>3</th>\n",
       "      <td>0.0</td>\n",
       "      <td>1.0</td>\n",
       "      <td>0</td>\n",
       "      <td>1</td>\n",
       "      <td>0</td>\n",
       "      <td>0</td>\n",
       "      <td>0</td>\n",
       "      <td>0</td>\n",
       "      <td>0</td>\n",
       "      <td>0</td>\n",
       "      <td>1</td>\n",
       "      <td>0</td>\n",
       "      <td>1</td>\n",
       "      <td>0</td>\n",
       "      <td>0</td>\n",
       "    </tr>\n",
       "    <tr>\n",
       "      <th>4</th>\n",
       "      <td>1.0</td>\n",
       "      <td>0.0</td>\n",
       "      <td>1</td>\n",
       "      <td>0</td>\n",
       "      <td>0</td>\n",
       "      <td>0</td>\n",
       "      <td>0</td>\n",
       "      <td>1</td>\n",
       "      <td>0</td>\n",
       "      <td>0</td>\n",
       "      <td>0</td>\n",
       "      <td>0</td>\n",
       "      <td>1</td>\n",
       "      <td>0</td>\n",
       "      <td>0</td>\n",
       "    </tr>\n",
       "  </tbody>\n",
       "</table>\n",
       "</div>"
      ],
      "text/plain": [
       "    I1     I2  C17:27c07bd6  C17:3486227d  C17:8efede7f  C17:e5ba7672  \\\n",
       "0  0.0  127.0             0             0             1             0   \n",
       "1  4.0    0.0             1             0             0             0   \n",
       "2  3.0    0.0             0             0             0             1   \n",
       "3  0.0    1.0             0             1             0             0   \n",
       "4  1.0    0.0             1             0             0             0   \n",
       "\n",
       "   C18:456d734d  C18:a78bd508  C18:bc5a0ff7  C18:bd17c3da  C18:df4fffb7  \\\n",
       "0             0             0             0             1             0   \n",
       "1             0             0             1             0             0   \n",
       "2             1             0             0             0             0   \n",
       "3             0             0             0             0             1   \n",
       "4             0             1             0             0             0   \n",
       "\n",
       "   C19:083e89d9  C19:21ddcdc9  C19:4764bf77  C19:f6a3e43b  \n",
       "0             0             0             0             1  \n",
       "1             1             0             0             0  \n",
       "2             0             0             1             0  \n",
       "3             0             1             0             0  \n",
       "4             0             1             0             0  "
      ]
     },
     "execution_count": 11,
     "metadata": {},
     "output_type": "execute_result"
    }
   ],
   "source": [
    "# xdata_trnsf = pd.get_dummies(trainSet,prefix=categories,prefix_sep = \":\",sparse = True)\n",
    "xdata_trnsf"
   ]
  },
  {
   "cell_type": "code",
   "execution_count": 12,
   "metadata": {},
   "outputs": [
    {
     "data": {
      "text/html": [
       "<div>\n",
       "<style>\n",
       "    .dataframe thead tr:only-child th {\n",
       "        text-align: right;\n",
       "    }\n",
       "\n",
       "    .dataframe thead th {\n",
       "        text-align: left;\n",
       "    }\n",
       "\n",
       "    .dataframe tbody tr th {\n",
       "        vertical-align: top;\n",
       "    }\n",
       "</style>\n",
       "<table border=\"1\" class=\"dataframe\">\n",
       "  <thead>\n",
       "    <tr>\n",
       "      <th>field_id</th>\n",
       "      <th>I1</th>\n",
       "      <th>I2</th>\n",
       "      <th colspan=\"4\" halign=\"left\">C17</th>\n",
       "      <th colspan=\"5\" halign=\"left\">C18</th>\n",
       "      <th colspan=\"4\" halign=\"left\">C19</th>\n",
       "    </tr>\n",
       "    <tr>\n",
       "      <th>index_id</th>\n",
       "      <th>I1</th>\n",
       "      <th>I2</th>\n",
       "      <th>C17:27c07bd6</th>\n",
       "      <th>C17:3486227d</th>\n",
       "      <th>C17:8efede7f</th>\n",
       "      <th>C17:e5ba7672</th>\n",
       "      <th>C18:456d734d</th>\n",
       "      <th>C18:a78bd508</th>\n",
       "      <th>C18:bc5a0ff7</th>\n",
       "      <th>C18:bd17c3da</th>\n",
       "      <th>C18:df4fffb7</th>\n",
       "      <th>C19:083e89d9</th>\n",
       "      <th>C19:21ddcdc9</th>\n",
       "      <th>C19:4764bf77</th>\n",
       "      <th>C19:f6a3e43b</th>\n",
       "    </tr>\n",
       "  </thead>\n",
       "  <tbody>\n",
       "    <tr>\n",
       "      <th>0</th>\n",
       "      <td>0.0</td>\n",
       "      <td>127.0</td>\n",
       "      <td>0</td>\n",
       "      <td>0</td>\n",
       "      <td>1</td>\n",
       "      <td>0</td>\n",
       "      <td>0</td>\n",
       "      <td>0</td>\n",
       "      <td>0</td>\n",
       "      <td>1</td>\n",
       "      <td>0</td>\n",
       "      <td>0</td>\n",
       "      <td>0</td>\n",
       "      <td>0</td>\n",
       "      <td>1</td>\n",
       "    </tr>\n",
       "    <tr>\n",
       "      <th>1</th>\n",
       "      <td>4.0</td>\n",
       "      <td>0.0</td>\n",
       "      <td>1</td>\n",
       "      <td>0</td>\n",
       "      <td>0</td>\n",
       "      <td>0</td>\n",
       "      <td>0</td>\n",
       "      <td>0</td>\n",
       "      <td>1</td>\n",
       "      <td>0</td>\n",
       "      <td>0</td>\n",
       "      <td>1</td>\n",
       "      <td>0</td>\n",
       "      <td>0</td>\n",
       "      <td>0</td>\n",
       "    </tr>\n",
       "    <tr>\n",
       "      <th>2</th>\n",
       "      <td>3.0</td>\n",
       "      <td>0.0</td>\n",
       "      <td>0</td>\n",
       "      <td>0</td>\n",
       "      <td>0</td>\n",
       "      <td>1</td>\n",
       "      <td>1</td>\n",
       "      <td>0</td>\n",
       "      <td>0</td>\n",
       "      <td>0</td>\n",
       "      <td>0</td>\n",
       "      <td>0</td>\n",
       "      <td>0</td>\n",
       "      <td>1</td>\n",
       "      <td>0</td>\n",
       "    </tr>\n",
       "    <tr>\n",
       "      <th>3</th>\n",
       "      <td>0.0</td>\n",
       "      <td>1.0</td>\n",
       "      <td>0</td>\n",
       "      <td>1</td>\n",
       "      <td>0</td>\n",
       "      <td>0</td>\n",
       "      <td>0</td>\n",
       "      <td>0</td>\n",
       "      <td>0</td>\n",
       "      <td>0</td>\n",
       "      <td>1</td>\n",
       "      <td>0</td>\n",
       "      <td>1</td>\n",
       "      <td>0</td>\n",
       "      <td>0</td>\n",
       "    </tr>\n",
       "    <tr>\n",
       "      <th>4</th>\n",
       "      <td>1.0</td>\n",
       "      <td>0.0</td>\n",
       "      <td>1</td>\n",
       "      <td>0</td>\n",
       "      <td>0</td>\n",
       "      <td>0</td>\n",
       "      <td>0</td>\n",
       "      <td>1</td>\n",
       "      <td>0</td>\n",
       "      <td>0</td>\n",
       "      <td>0</td>\n",
       "      <td>0</td>\n",
       "      <td>1</td>\n",
       "      <td>0</td>\n",
       "      <td>0</td>\n",
       "    </tr>\n",
       "  </tbody>\n",
       "</table>\n",
       "</div>"
      ],
      "text/plain": [
       "field_id   I1     I2          C17                                         \\\n",
       "index_id   I1     I2 C17:27c07bd6 C17:3486227d C17:8efede7f C17:e5ba7672   \n",
       "0         0.0  127.0            0            0            1            0   \n",
       "1         4.0    0.0            1            0            0            0   \n",
       "2         3.0    0.0            0            0            0            1   \n",
       "3         0.0    1.0            0            1            0            0   \n",
       "4         1.0    0.0            1            0            0            0   \n",
       "\n",
       "field_id          C18                                                      \\\n",
       "index_id C18:456d734d C18:a78bd508 C18:bc5a0ff7 C18:bd17c3da C18:df4fffb7   \n",
       "0                   0            0            0            1            0   \n",
       "1                   0            0            1            0            0   \n",
       "2                   1            0            0            0            0   \n",
       "3                   0            0            0            0            1   \n",
       "4                   0            1            0            0            0   \n",
       "\n",
       "field_id          C19                                         \n",
       "index_id C19:083e89d9 C19:21ddcdc9 C19:4764bf77 C19:f6a3e43b  \n",
       "0                   0            0            0            1  \n",
       "1                   1            0            0            0  \n",
       "2                   0            0            1            0  \n",
       "3                   0            1            0            0  \n",
       "4                   0            1            0            0  "
      ]
     },
     "execution_count": 12,
     "metadata": {},
     "output_type": "execute_result"
    }
   ],
   "source": [
    "# 拿到一级label和二级label,重构索引\n",
    "import re\n",
    "label_v1 = [ label.split(':')[0] for label in xdata_trnsf.columns.tolist()]\n",
    "label_v2 = xdata_trnsf.columns.tolist()\n",
    "index = pd.MultiIndex.from_arrays([label_v1,label_v2],names = ['field_id','index_id'])\n",
    "xdata_trnsf.columns = index\n",
    "xdata_trnsf.head()"
   ]
  },
  {
   "cell_type": "markdown",
   "metadata": {},
   "source": [
    "### 制作字典，存储从名字到index 的映射"
   ]
  },
  {
   "cell_type": "code",
   "execution_count": 13,
   "metadata": {
    "collapsed": true
   },
   "outputs": [],
   "source": [
    "# define a function to print dict:\n",
    "def printDict(d):\n",
    "    import json\n",
    "    print(json.dumps(d, indent = 4))"
   ]
  },
  {
   "cell_type": "code",
   "execution_count": 14,
   "metadata": {
    "collapsed": true
   },
   "outputs": [],
   "source": [
    "def createIndex(label):\n",
    "    from collections import OrderedDict\n",
    "    from collections import Counter\n",
    "    #print(label)\n",
    "    orderCol = list(OrderedDict.fromkeys(label))\n",
    "    #print(orderCol)\n",
    "    label_dict = dict(zip(orderCol,range(len(orderCol))))\n",
    "    return label_dict"
   ]
  },
  {
   "cell_type": "code",
   "execution_count": 15,
   "metadata": {},
   "outputs": [
    {
     "name": "stdout",
     "output_type": "stream",
     "text": [
      "{\n",
      "    \"I1\": 0,\n",
      "    \"I2\": 1,\n",
      "    \"C17\": 2,\n",
      "    \"C18\": 3,\n",
      "    \"C19\": 4\n",
      "}\n",
      "{\n",
      "    \"I1\": 0,\n",
      "    \"I2\": 1,\n",
      "    \"C17:27c07bd6\": 2,\n",
      "    \"C17:3486227d\": 3,\n",
      "    \"C17:8efede7f\": 4,\n",
      "    \"C17:e5ba7672\": 5,\n",
      "    \"C18:456d734d\": 6,\n",
      "    \"C18:a78bd508\": 7,\n",
      "    \"C18:bc5a0ff7\": 8,\n",
      "    \"C18:bd17c3da\": 9,\n",
      "    \"C18:df4fffb7\": 10,\n",
      "    \"C19:083e89d9\": 11,\n",
      "    \"C19:21ddcdc9\": 12,\n",
      "    \"C19:4764bf77\": 13,\n",
      "    \"C19:f6a3e43b\": 14\n",
      "}\n"
     ]
    }
   ],
   "source": [
    "# encode:\n",
    "label_v1_dict = createIndex(label_v1)\n",
    "printDict(label_v1_dict)\n",
    "label_v2_dict = createIndex(label_v2)\n",
    "printDict(label_v2_dict)"
   ]
  },
  {
   "cell_type": "markdown",
   "metadata": {},
   "source": [
    "### 制作字典， 存储从converted index到conterted filed的映射信息"
   ]
  },
  {
   "cell_type": "code",
   "execution_count": 16,
   "metadata": {},
   "outputs": [
    {
     "name": "stdout",
     "output_type": "stream",
     "text": [
      "{\n",
      "    \"0\": 0,\n",
      "    \"1\": 1,\n",
      "    \"2\": 2,\n",
      "    \"3\": 2,\n",
      "    \"4\": 2,\n",
      "    \"5\": 2,\n",
      "    \"6\": 3,\n",
      "    \"7\": 3,\n",
      "    \"8\": 3,\n",
      "    \"9\": 3,\n",
      "    \"10\": 3,\n",
      "    \"11\": 4,\n",
      "    \"12\": 4,\n",
      "    \"13\": 4,\n",
      "    \"14\": 4\n",
      "}\n"
     ]
    }
   ],
   "source": [
    "from operator import itemgetter\n",
    "indexToFiled = dict(zip(itemgetter(*label_v2)(label_v2_dict),\n",
    "                itemgetter(*label_v1)(label_v1_dict)))\n",
    "printDict(indexToFiled)"
   ]
  },
  {
   "cell_type": "code",
   "execution_count": null,
   "metadata": {
    "collapsed": true
   },
   "outputs": [],
   "source": []
  },
  {
   "cell_type": "markdown",
   "metadata": {},
   "source": [
    "### 初始化模型参数"
   ]
  },
  {
   "cell_type": "code",
   "execution_count": 17,
   "metadata": {
    "collapsed": true
   },
   "outputs": [],
   "source": [
    "# tunning parameters\n",
    "numOfField = label_v1_dict.__len__()\n",
    "numOfIndex = label_v2_dict.__len__()\n",
    "numOfK     = 1"
   ]
  },
  {
   "cell_type": "code",
   "execution_count": 18,
   "metadata": {},
   "outputs": [
    {
     "name": "stdout",
     "output_type": "stream",
     "text": [
      "\n",
      "[[[5.49e-01 5.93e-01 7.15e-01 8.44e-01 6.03e-01 8.58e-01 5.45e-01 8.47e-01 4.24e-01 6.24e-01\n",
      "   6.46e-01 3.84e-01 4.38e-01 2.98e-01 8.92e-01]\n",
      "  [5.67e-02 9.64e-01 2.73e-01 3.83e-01 4.78e-01 7.92e-01 8.12e-01 5.29e-01 4.80e-01 5.68e-01\n",
      "   3.93e-01 9.26e-01 8.36e-01 7.10e-02 3.37e-01]\n",
      "  [8.71e-02 6.48e-01 2.02e-02 3.68e-01 8.33e-01 9.57e-01 7.78e-01 1.40e-01 4.17e-01 9.97e-01\n",
      "   7.20e-01 9.33e-01 1.14e-04 1.28e-01 3.02e-01]\n",
      "  [9.99e-01 1.47e-01 2.36e-01 9.23e-02 3.97e-01 1.86e-01 3.88e-01 3.46e-01 6.70e-01 3.97e-01\n",
      "   9.36e-01 5.39e-01 8.46e-01 4.19e-01 3.13e-01]\n",
      "  [6.85e-01 5.25e-01 2.04e-01 4.43e-01 8.78e-01 2.30e-01 2.74e-02 5.34e-01 6.70e-01 9.14e-01\n",
      "   4.17e-01 4.57e-01 5.59e-01 4.31e-01 1.40e-01]]]\n",
      "<NDArray 1x5x15 @cpu(0)>\n",
      "\n",
      "[[[0. 0. 0. 0. 0. 0. 0. 0. 0. 0. 0. 0. 0. 0. 0.]\n",
      "  [0. 0. 0. 0. 0. 0. 0. 0. 0. 0. 0. 0. 0. 0. 0.]\n",
      "  [0. 0. 0. 0. 0. 0. 0. 0. 0. 0. 0. 0. 0. 0. 0.]\n",
      "  [0. 0. 0. 0. 0. 0. 0. 0. 0. 0. 0. 0. 0. 0. 0.]\n",
      "  [0. 0. 0. 0. 0. 0. 0. 0. 0. 0. 0. 0. 0. 0. 0.]]]\n",
      "<NDArray 1x5x15 @cpu(0)>\n"
     ]
    }
   ],
   "source": [
    "import mxnet.ndarray as nd\n",
    "import mxnet.autograd as ag\n",
    "Wmatrix = nd.random_uniform(shape=(numOfK,numOfField,numOfIndex))\n",
    "Wmatrix.attach_grad()\n",
    "print(Wmatrix)\n",
    "print(Wmatrix.grad)"
   ]
  },
  {
   "cell_type": "markdown",
   "metadata": {},
   "source": [
    "### SGD"
   ]
  },
  {
   "cell_type": "markdown",
   "metadata": {},
   "source": [
    "#### 获取第一个人的信息"
   ]
  },
  {
   "cell_type": "code",
   "execution_count": 37,
   "metadata": {},
   "outputs": [
    {
     "data": {
      "text/html": [
       "<div>\n",
       "<style>\n",
       "    .dataframe thead tr:only-child th {\n",
       "        text-align: right;\n",
       "    }\n",
       "\n",
       "    .dataframe thead th {\n",
       "        text-align: left;\n",
       "    }\n",
       "\n",
       "    .dataframe tbody tr th {\n",
       "        vertical-align: top;\n",
       "    }\n",
       "</style>\n",
       "<table border=\"1\" class=\"dataframe\">\n",
       "  <thead>\n",
       "    <tr style=\"text-align: right;\">\n",
       "      <th></th>\n",
       "      <th></th>\n",
       "      <th>3</th>\n",
       "    </tr>\n",
       "    <tr>\n",
       "      <th>field_id</th>\n",
       "      <th>index_id</th>\n",
       "      <th></th>\n",
       "    </tr>\n",
       "  </thead>\n",
       "  <tbody>\n",
       "    <tr>\n",
       "      <th>I1</th>\n",
       "      <th>I1</th>\n",
       "      <td>0.0</td>\n",
       "    </tr>\n",
       "    <tr>\n",
       "      <th>I2</th>\n",
       "      <th>I2</th>\n",
       "      <td>1.0</td>\n",
       "    </tr>\n",
       "    <tr>\n",
       "      <th rowspan=\"4\" valign=\"top\">C17</th>\n",
       "      <th>C17:27c07bd6</th>\n",
       "      <td>0.0</td>\n",
       "    </tr>\n",
       "    <tr>\n",
       "      <th>C17:3486227d</th>\n",
       "      <td>1.0</td>\n",
       "    </tr>\n",
       "    <tr>\n",
       "      <th>C17:8efede7f</th>\n",
       "      <td>0.0</td>\n",
       "    </tr>\n",
       "    <tr>\n",
       "      <th>C17:e5ba7672</th>\n",
       "      <td>0.0</td>\n",
       "    </tr>\n",
       "    <tr>\n",
       "      <th rowspan=\"5\" valign=\"top\">C18</th>\n",
       "      <th>C18:456d734d</th>\n",
       "      <td>0.0</td>\n",
       "    </tr>\n",
       "    <tr>\n",
       "      <th>C18:a78bd508</th>\n",
       "      <td>0.0</td>\n",
       "    </tr>\n",
       "    <tr>\n",
       "      <th>C18:bc5a0ff7</th>\n",
       "      <td>0.0</td>\n",
       "    </tr>\n",
       "    <tr>\n",
       "      <th>C18:bd17c3da</th>\n",
       "      <td>0.0</td>\n",
       "    </tr>\n",
       "    <tr>\n",
       "      <th>C18:df4fffb7</th>\n",
       "      <td>1.0</td>\n",
       "    </tr>\n",
       "    <tr>\n",
       "      <th rowspan=\"4\" valign=\"top\">C19</th>\n",
       "      <th>C19:083e89d9</th>\n",
       "      <td>0.0</td>\n",
       "    </tr>\n",
       "    <tr>\n",
       "      <th>C19:21ddcdc9</th>\n",
       "      <td>1.0</td>\n",
       "    </tr>\n",
       "    <tr>\n",
       "      <th>C19:4764bf77</th>\n",
       "      <td>0.0</td>\n",
       "    </tr>\n",
       "    <tr>\n",
       "      <th>C19:f6a3e43b</th>\n",
       "      <td>0.0</td>\n",
       "    </tr>\n",
       "  </tbody>\n",
       "</table>\n",
       "</div>"
      ],
      "text/plain": [
       "                         3\n",
       "field_id index_id         \n",
       "I1       I1            0.0\n",
       "I2       I2            1.0\n",
       "C17      C17:27c07bd6  0.0\n",
       "         C17:3486227d  1.0\n",
       "         C17:8efede7f  0.0\n",
       "         C17:e5ba7672  0.0\n",
       "C18      C18:456d734d  0.0\n",
       "         C18:a78bd508  0.0\n",
       "         C18:bc5a0ff7  0.0\n",
       "         C18:bd17c3da  0.0\n",
       "         C18:df4fffb7  1.0\n",
       "C19      C19:083e89d9  0.0\n",
       "         C19:21ddcdc9  1.0\n",
       "         C19:4764bf77  0.0\n",
       "         C19:f6a3e43b  0.0"
      ]
     },
     "execution_count": 37,
     "metadata": {},
     "output_type": "execute_result"
    }
   ],
   "source": [
    "from IPython.display import display_html\n",
    "from scipy.sparse import  coo_matrix,csr_matrix,lil_matrix\n",
    "def display_side_by_side(*args):\n",
    "    html_str=''\n",
    "    for df in args:\n",
    "        html_str+=df.to_html()\n",
    "    display_html(html_str.replace('table','table style=\"display:inline\"'),raw=True)\n",
    "\n",
    "userNum = 0\n",
    "record = xdata_trnsf.loc[3,:].to_frame().to_sparse()\n",
    "record"
   ]
  },
  {
   "cell_type": "markdown",
   "metadata": {},
   "source": [
    "\n",
    "#### 生成交互矩阵"
   ]
  },
  {
   "cell_type": "code",
   "execution_count": 38,
   "metadata": {},
   "outputs": [
    {
     "data": {
      "text/html": [
       "<div>\n",
       "<style>\n",
       "    .dataframe thead tr:only-child th {\n",
       "        text-align: right;\n",
       "    }\n",
       "\n",
       "    .dataframe thead th {\n",
       "        text-align: left;\n",
       "    }\n",
       "\n",
       "    .dataframe tbody tr th {\n",
       "        vertical-align: top;\n",
       "    }\n",
       "</style>\n",
       "<table border=\"1\" class=\"dataframe\">\n",
       "  <thead>\n",
       "    <tr>\n",
       "      <th></th>\n",
       "      <th>field_id</th>\n",
       "      <th>I1</th>\n",
       "      <th>I2</th>\n",
       "      <th colspan=\"4\" halign=\"left\">C17</th>\n",
       "      <th colspan=\"5\" halign=\"left\">C18</th>\n",
       "      <th colspan=\"4\" halign=\"left\">C19</th>\n",
       "    </tr>\n",
       "    <tr>\n",
       "      <th></th>\n",
       "      <th>index_id</th>\n",
       "      <th>I1</th>\n",
       "      <th>I2</th>\n",
       "      <th>C17:27c07bd6</th>\n",
       "      <th>C17:3486227d</th>\n",
       "      <th>C17:8efede7f</th>\n",
       "      <th>C17:e5ba7672</th>\n",
       "      <th>C18:456d734d</th>\n",
       "      <th>C18:a78bd508</th>\n",
       "      <th>C18:bc5a0ff7</th>\n",
       "      <th>C18:bd17c3da</th>\n",
       "      <th>C18:df4fffb7</th>\n",
       "      <th>C19:083e89d9</th>\n",
       "      <th>C19:21ddcdc9</th>\n",
       "      <th>C19:4764bf77</th>\n",
       "      <th>C19:f6a3e43b</th>\n",
       "    </tr>\n",
       "    <tr>\n",
       "      <th>field_id</th>\n",
       "      <th>index_id</th>\n",
       "      <th></th>\n",
       "      <th></th>\n",
       "      <th></th>\n",
       "      <th></th>\n",
       "      <th></th>\n",
       "      <th></th>\n",
       "      <th></th>\n",
       "      <th></th>\n",
       "      <th></th>\n",
       "      <th></th>\n",
       "      <th></th>\n",
       "      <th></th>\n",
       "      <th></th>\n",
       "      <th></th>\n",
       "      <th></th>\n",
       "    </tr>\n",
       "  </thead>\n",
       "  <tbody>\n",
       "    <tr>\n",
       "      <th>I1</th>\n",
       "      <th>I1</th>\n",
       "      <td>0.0</td>\n",
       "      <td>0.0</td>\n",
       "      <td>0.0</td>\n",
       "      <td>0.0</td>\n",
       "      <td>0.0</td>\n",
       "      <td>0.0</td>\n",
       "      <td>0.0</td>\n",
       "      <td>0.0</td>\n",
       "      <td>0.0</td>\n",
       "      <td>0.0</td>\n",
       "      <td>0.0</td>\n",
       "      <td>0.0</td>\n",
       "      <td>0.0</td>\n",
       "      <td>0.0</td>\n",
       "      <td>0.0</td>\n",
       "    </tr>\n",
       "    <tr>\n",
       "      <th>I2</th>\n",
       "      <th>I2</th>\n",
       "      <td>0.0</td>\n",
       "      <td>0.0</td>\n",
       "      <td>0.0</td>\n",
       "      <td>0.0</td>\n",
       "      <td>127.0</td>\n",
       "      <td>0.0</td>\n",
       "      <td>0.0</td>\n",
       "      <td>0.0</td>\n",
       "      <td>0.0</td>\n",
       "      <td>127.0</td>\n",
       "      <td>0.0</td>\n",
       "      <td>0.0</td>\n",
       "      <td>0.0</td>\n",
       "      <td>0.0</td>\n",
       "      <td>127.0</td>\n",
       "    </tr>\n",
       "    <tr>\n",
       "      <th rowspan=\"4\" valign=\"top\">C17</th>\n",
       "      <th>C17:27c07bd6</th>\n",
       "      <td>0.0</td>\n",
       "      <td>0.0</td>\n",
       "      <td>0.0</td>\n",
       "      <td>0.0</td>\n",
       "      <td>0.0</td>\n",
       "      <td>0.0</td>\n",
       "      <td>0.0</td>\n",
       "      <td>0.0</td>\n",
       "      <td>0.0</td>\n",
       "      <td>0.0</td>\n",
       "      <td>0.0</td>\n",
       "      <td>0.0</td>\n",
       "      <td>0.0</td>\n",
       "      <td>0.0</td>\n",
       "      <td>0.0</td>\n",
       "    </tr>\n",
       "    <tr>\n",
       "      <th>C17:3486227d</th>\n",
       "      <td>0.0</td>\n",
       "      <td>0.0</td>\n",
       "      <td>0.0</td>\n",
       "      <td>0.0</td>\n",
       "      <td>0.0</td>\n",
       "      <td>0.0</td>\n",
       "      <td>0.0</td>\n",
       "      <td>0.0</td>\n",
       "      <td>0.0</td>\n",
       "      <td>0.0</td>\n",
       "      <td>0.0</td>\n",
       "      <td>0.0</td>\n",
       "      <td>0.0</td>\n",
       "      <td>0.0</td>\n",
       "      <td>0.0</td>\n",
       "    </tr>\n",
       "    <tr>\n",
       "      <th>C17:8efede7f</th>\n",
       "      <td>0.0</td>\n",
       "      <td>0.0</td>\n",
       "      <td>0.0</td>\n",
       "      <td>0.0</td>\n",
       "      <td>0.0</td>\n",
       "      <td>0.0</td>\n",
       "      <td>0.0</td>\n",
       "      <td>0.0</td>\n",
       "      <td>0.0</td>\n",
       "      <td>1.0</td>\n",
       "      <td>0.0</td>\n",
       "      <td>0.0</td>\n",
       "      <td>0.0</td>\n",
       "      <td>0.0</td>\n",
       "      <td>1.0</td>\n",
       "    </tr>\n",
       "    <tr>\n",
       "      <th>C17:e5ba7672</th>\n",
       "      <td>0.0</td>\n",
       "      <td>0.0</td>\n",
       "      <td>0.0</td>\n",
       "      <td>0.0</td>\n",
       "      <td>0.0</td>\n",
       "      <td>0.0</td>\n",
       "      <td>0.0</td>\n",
       "      <td>0.0</td>\n",
       "      <td>0.0</td>\n",
       "      <td>0.0</td>\n",
       "      <td>0.0</td>\n",
       "      <td>0.0</td>\n",
       "      <td>0.0</td>\n",
       "      <td>0.0</td>\n",
       "      <td>0.0</td>\n",
       "    </tr>\n",
       "    <tr>\n",
       "      <th rowspan=\"5\" valign=\"top\">C18</th>\n",
       "      <th>C18:456d734d</th>\n",
       "      <td>0.0</td>\n",
       "      <td>0.0</td>\n",
       "      <td>0.0</td>\n",
       "      <td>0.0</td>\n",
       "      <td>0.0</td>\n",
       "      <td>0.0</td>\n",
       "      <td>0.0</td>\n",
       "      <td>0.0</td>\n",
       "      <td>0.0</td>\n",
       "      <td>0.0</td>\n",
       "      <td>0.0</td>\n",
       "      <td>0.0</td>\n",
       "      <td>0.0</td>\n",
       "      <td>0.0</td>\n",
       "      <td>0.0</td>\n",
       "    </tr>\n",
       "    <tr>\n",
       "      <th>C18:a78bd508</th>\n",
       "      <td>0.0</td>\n",
       "      <td>0.0</td>\n",
       "      <td>0.0</td>\n",
       "      <td>0.0</td>\n",
       "      <td>0.0</td>\n",
       "      <td>0.0</td>\n",
       "      <td>0.0</td>\n",
       "      <td>0.0</td>\n",
       "      <td>0.0</td>\n",
       "      <td>0.0</td>\n",
       "      <td>0.0</td>\n",
       "      <td>0.0</td>\n",
       "      <td>0.0</td>\n",
       "      <td>0.0</td>\n",
       "      <td>0.0</td>\n",
       "    </tr>\n",
       "    <tr>\n",
       "      <th>C18:bc5a0ff7</th>\n",
       "      <td>0.0</td>\n",
       "      <td>0.0</td>\n",
       "      <td>0.0</td>\n",
       "      <td>0.0</td>\n",
       "      <td>0.0</td>\n",
       "      <td>0.0</td>\n",
       "      <td>0.0</td>\n",
       "      <td>0.0</td>\n",
       "      <td>0.0</td>\n",
       "      <td>0.0</td>\n",
       "      <td>0.0</td>\n",
       "      <td>0.0</td>\n",
       "      <td>0.0</td>\n",
       "      <td>0.0</td>\n",
       "      <td>0.0</td>\n",
       "    </tr>\n",
       "    <tr>\n",
       "      <th>C18:bd17c3da</th>\n",
       "      <td>0.0</td>\n",
       "      <td>0.0</td>\n",
       "      <td>0.0</td>\n",
       "      <td>0.0</td>\n",
       "      <td>0.0</td>\n",
       "      <td>0.0</td>\n",
       "      <td>0.0</td>\n",
       "      <td>0.0</td>\n",
       "      <td>0.0</td>\n",
       "      <td>0.0</td>\n",
       "      <td>0.0</td>\n",
       "      <td>0.0</td>\n",
       "      <td>0.0</td>\n",
       "      <td>0.0</td>\n",
       "      <td>1.0</td>\n",
       "    </tr>\n",
       "    <tr>\n",
       "      <th>C18:df4fffb7</th>\n",
       "      <td>0.0</td>\n",
       "      <td>0.0</td>\n",
       "      <td>0.0</td>\n",
       "      <td>0.0</td>\n",
       "      <td>0.0</td>\n",
       "      <td>0.0</td>\n",
       "      <td>0.0</td>\n",
       "      <td>0.0</td>\n",
       "      <td>0.0</td>\n",
       "      <td>0.0</td>\n",
       "      <td>0.0</td>\n",
       "      <td>0.0</td>\n",
       "      <td>0.0</td>\n",
       "      <td>0.0</td>\n",
       "      <td>0.0</td>\n",
       "    </tr>\n",
       "    <tr>\n",
       "      <th rowspan=\"4\" valign=\"top\">C19</th>\n",
       "      <th>C19:083e89d9</th>\n",
       "      <td>0.0</td>\n",
       "      <td>0.0</td>\n",
       "      <td>0.0</td>\n",
       "      <td>0.0</td>\n",
       "      <td>0.0</td>\n",
       "      <td>0.0</td>\n",
       "      <td>0.0</td>\n",
       "      <td>0.0</td>\n",
       "      <td>0.0</td>\n",
       "      <td>0.0</td>\n",
       "      <td>0.0</td>\n",
       "      <td>0.0</td>\n",
       "      <td>0.0</td>\n",
       "      <td>0.0</td>\n",
       "      <td>0.0</td>\n",
       "    </tr>\n",
       "    <tr>\n",
       "      <th>C19:21ddcdc9</th>\n",
       "      <td>0.0</td>\n",
       "      <td>0.0</td>\n",
       "      <td>0.0</td>\n",
       "      <td>0.0</td>\n",
       "      <td>0.0</td>\n",
       "      <td>0.0</td>\n",
       "      <td>0.0</td>\n",
       "      <td>0.0</td>\n",
       "      <td>0.0</td>\n",
       "      <td>0.0</td>\n",
       "      <td>0.0</td>\n",
       "      <td>0.0</td>\n",
       "      <td>0.0</td>\n",
       "      <td>0.0</td>\n",
       "      <td>0.0</td>\n",
       "    </tr>\n",
       "    <tr>\n",
       "      <th>C19:4764bf77</th>\n",
       "      <td>0.0</td>\n",
       "      <td>0.0</td>\n",
       "      <td>0.0</td>\n",
       "      <td>0.0</td>\n",
       "      <td>0.0</td>\n",
       "      <td>0.0</td>\n",
       "      <td>0.0</td>\n",
       "      <td>0.0</td>\n",
       "      <td>0.0</td>\n",
       "      <td>0.0</td>\n",
       "      <td>0.0</td>\n",
       "      <td>0.0</td>\n",
       "      <td>0.0</td>\n",
       "      <td>0.0</td>\n",
       "      <td>0.0</td>\n",
       "    </tr>\n",
       "    <tr>\n",
       "      <th>C19:f6a3e43b</th>\n",
       "      <td>0.0</td>\n",
       "      <td>0.0</td>\n",
       "      <td>0.0</td>\n",
       "      <td>0.0</td>\n",
       "      <td>0.0</td>\n",
       "      <td>0.0</td>\n",
       "      <td>0.0</td>\n",
       "      <td>0.0</td>\n",
       "      <td>0.0</td>\n",
       "      <td>0.0</td>\n",
       "      <td>0.0</td>\n",
       "      <td>0.0</td>\n",
       "      <td>0.0</td>\n",
       "      <td>0.0</td>\n",
       "      <td>0.0</td>\n",
       "    </tr>\n",
       "  </tbody>\n",
       "</table>\n",
       "</div>"
      ],
      "text/plain": [
       "field_id                I1   I2          C17                            \\\n",
       "index_id                I1   I2 C17:27c07bd6 C17:3486227d C17:8efede7f   \n",
       "field_id index_id                                                        \n",
       "I1       I1            0.0  0.0          0.0          0.0          0.0   \n",
       "I2       I2            0.0  0.0          0.0          0.0        127.0   \n",
       "C17      C17:27c07bd6  0.0  0.0          0.0          0.0          0.0   \n",
       "         C17:3486227d  0.0  0.0          0.0          0.0          0.0   \n",
       "         C17:8efede7f  0.0  0.0          0.0          0.0          0.0   \n",
       "         C17:e5ba7672  0.0  0.0          0.0          0.0          0.0   \n",
       "C18      C18:456d734d  0.0  0.0          0.0          0.0          0.0   \n",
       "         C18:a78bd508  0.0  0.0          0.0          0.0          0.0   \n",
       "         C18:bc5a0ff7  0.0  0.0          0.0          0.0          0.0   \n",
       "         C18:bd17c3da  0.0  0.0          0.0          0.0          0.0   \n",
       "         C18:df4fffb7  0.0  0.0          0.0          0.0          0.0   \n",
       "C19      C19:083e89d9  0.0  0.0          0.0          0.0          0.0   \n",
       "         C19:21ddcdc9  0.0  0.0          0.0          0.0          0.0   \n",
       "         C19:4764bf77  0.0  0.0          0.0          0.0          0.0   \n",
       "         C19:f6a3e43b  0.0  0.0          0.0          0.0          0.0   \n",
       "\n",
       "field_id                                    C18                            \\\n",
       "index_id              C17:e5ba7672 C18:456d734d C18:a78bd508 C18:bc5a0ff7   \n",
       "field_id index_id                                                           \n",
       "I1       I1                    0.0          0.0          0.0          0.0   \n",
       "I2       I2                    0.0          0.0          0.0          0.0   \n",
       "C17      C17:27c07bd6          0.0          0.0          0.0          0.0   \n",
       "         C17:3486227d          0.0          0.0          0.0          0.0   \n",
       "         C17:8efede7f          0.0          0.0          0.0          0.0   \n",
       "         C17:e5ba7672          0.0          0.0          0.0          0.0   \n",
       "C18      C18:456d734d          0.0          0.0          0.0          0.0   \n",
       "         C18:a78bd508          0.0          0.0          0.0          0.0   \n",
       "         C18:bc5a0ff7          0.0          0.0          0.0          0.0   \n",
       "         C18:bd17c3da          0.0          0.0          0.0          0.0   \n",
       "         C18:df4fffb7          0.0          0.0          0.0          0.0   \n",
       "C19      C19:083e89d9          0.0          0.0          0.0          0.0   \n",
       "         C19:21ddcdc9          0.0          0.0          0.0          0.0   \n",
       "         C19:4764bf77          0.0          0.0          0.0          0.0   \n",
       "         C19:f6a3e43b          0.0          0.0          0.0          0.0   \n",
       "\n",
       "field_id                                                 C19               \\\n",
       "index_id              C18:bd17c3da C18:df4fffb7 C19:083e89d9 C19:21ddcdc9   \n",
       "field_id index_id                                                           \n",
       "I1       I1                    0.0          0.0          0.0          0.0   \n",
       "I2       I2                  127.0          0.0          0.0          0.0   \n",
       "C17      C17:27c07bd6          0.0          0.0          0.0          0.0   \n",
       "         C17:3486227d          0.0          0.0          0.0          0.0   \n",
       "         C17:8efede7f          1.0          0.0          0.0          0.0   \n",
       "         C17:e5ba7672          0.0          0.0          0.0          0.0   \n",
       "C18      C18:456d734d          0.0          0.0          0.0          0.0   \n",
       "         C18:a78bd508          0.0          0.0          0.0          0.0   \n",
       "         C18:bc5a0ff7          0.0          0.0          0.0          0.0   \n",
       "         C18:bd17c3da          0.0          0.0          0.0          0.0   \n",
       "         C18:df4fffb7          0.0          0.0          0.0          0.0   \n",
       "C19      C19:083e89d9          0.0          0.0          0.0          0.0   \n",
       "         C19:21ddcdc9          0.0          0.0          0.0          0.0   \n",
       "         C19:4764bf77          0.0          0.0          0.0          0.0   \n",
       "         C19:f6a3e43b          0.0          0.0          0.0          0.0   \n",
       "\n",
       "field_id                                         \n",
       "index_id              C19:4764bf77 C19:f6a3e43b  \n",
       "field_id index_id                                \n",
       "I1       I1                    0.0          0.0  \n",
       "I2       I2                    0.0        127.0  \n",
       "C17      C17:27c07bd6          0.0          0.0  \n",
       "         C17:3486227d          0.0          0.0  \n",
       "         C17:8efede7f          0.0          1.0  \n",
       "         C17:e5ba7672          0.0          0.0  \n",
       "C18      C18:456d734d          0.0          0.0  \n",
       "         C18:a78bd508          0.0          0.0  \n",
       "         C18:bc5a0ff7          0.0          0.0  \n",
       "         C18:bd17c3da          0.0          1.0  \n",
       "         C18:df4fffb7          0.0          0.0  \n",
       "C19      C19:083e89d9          0.0          0.0  \n",
       "         C19:21ddcdc9          0.0          0.0  \n",
       "         C19:4764bf77          0.0          0.0  \n",
       "         C19:f6a3e43b          0.0          0.0  "
      ]
     },
     "execution_count": 38,
     "metadata": {},
     "output_type": "execute_result"
    }
   ],
   "source": [
    "# 先看看交互矩阵长什么样\n",
    "record = xdata_trnsf.loc[userNum,:].to_frame().to_sparse()\n",
    "record\n",
    "record_matrix = record.dot(record.T)\n",
    "upper = np.triu(record_matrix.values)\n",
    "upper[range(upper.shape[0]),range(upper.shape[0]) ]= 0\n",
    "record_matrix = pd.DataFrame(upper  ,index = record_matrix.index , columns = record_matrix.columns)\n",
    "record_matrix"
   ]
  },
  {
   "cell_type": "code",
   "execution_count": 39,
   "metadata": {
    "collapsed": true
   },
   "outputs": [],
   "source": [
    "# 生成交互矩阵\n",
    "record = xdata_trnsf.iloc[userNum,:].to_frame().to_sparse()\n",
    "record = csr_matrix(record.values)\n",
    "record.toarray()\n",
    "\n",
    "from scipy.sparse import triu\n",
    "record_matrix = record.dot(record.T)\n",
    "record_matrix = triu(record_matrix,format='lil')\n",
    "record_diag = range(record_matrix.shape[0])\n",
    "record_matrix[record_diag,record_diag ]= 0\n",
    "record_matrix = record_matrix.tocoo()"
   ]
  },
  {
   "cell_type": "code",
   "execution_count": 40,
   "metadata": {},
   "outputs": [
    {
     "name": "stdout",
     "output_type": "stream",
     "text": [
      "[[  0.   0.   0.   0.   0.   0.   0.   0.   0.   0.   0.   0.   0.   0.   0.]\n",
      " [  0.   0.   0.   0. 127.   0.   0.   0.   0. 127.   0.   0.   0.   0. 127.]\n",
      " [  0.   0.   0.   0.   0.   0.   0.   0.   0.   0.   0.   0.   0.   0.   0.]\n",
      " [  0.   0.   0.   0.   0.   0.   0.   0.   0.   0.   0.   0.   0.   0.   0.]\n",
      " [  0.   0.   0.   0.   0.   0.   0.   0.   0.   1.   0.   0.   0.   0.   1.]\n",
      " [  0.   0.   0.   0.   0.   0.   0.   0.   0.   0.   0.   0.   0.   0.   0.]\n",
      " [  0.   0.   0.   0.   0.   0.   0.   0.   0.   0.   0.   0.   0.   0.   0.]\n",
      " [  0.   0.   0.   0.   0.   0.   0.   0.   0.   0.   0.   0.   0.   0.   0.]\n",
      " [  0.   0.   0.   0.   0.   0.   0.   0.   0.   0.   0.   0.   0.   0.   0.]\n",
      " [  0.   0.   0.   0.   0.   0.   0.   0.   0.   0.   0.   0.   0.   0.   1.]\n",
      " [  0.   0.   0.   0.   0.   0.   0.   0.   0.   0.   0.   0.   0.   0.   0.]\n",
      " [  0.   0.   0.   0.   0.   0.   0.   0.   0.   0.   0.   0.   0.   0.   0.]\n",
      " [  0.   0.   0.   0.   0.   0.   0.   0.   0.   0.   0.   0.   0.   0.   0.]\n",
      " [  0.   0.   0.   0.   0.   0.   0.   0.   0.   0.   0.   0.   0.   0.   0.]\n",
      " [  0.   0.   0.   0.   0.   0.   0.   0.   0.   0.   0.   0.   0.   0.   0.]]\n"
     ]
    }
   ],
   "source": [
    "print(record_matrix.toarray())"
   ]
  },
  {
   "cell_type": "code",
   "execution_count": 41,
   "metadata": {},
   "outputs": [
    {
     "name": "stdout",
     "output_type": "stream",
     "text": [
      "['I1', 'I2', 'C17', 'C17', 'C17', 'C17', 'C18', 'C18', 'C18', 'C18', 'C18', 'C19', 'C19', 'C19', 'C19']\n",
      "['I1', 'I2', 'C17:27c07bd6', 'C17:3486227d', 'C17:8efede7f', 'C17:e5ba7672', 'C18:456d734d', 'C18:a78bd508', 'C18:bc5a0ff7', 'C18:bd17c3da', 'C18:df4fffb7', 'C19:083e89d9', 'C19:21ddcdc9', 'C19:4764bf77', 'C19:f6a3e43b']\n"
     ]
    }
   ],
   "source": [
    "# get weight from Wmatrix\n",
    "# get original index\n",
    "print(label_v1)\n",
    "print(label_v2)"
   ]
  },
  {
   "cell_type": "code",
   "execution_count": 42,
   "metadata": {
    "collapsed": true
   },
   "outputs": [],
   "source": [
    "# get row-col-value info from record_matrix\n",
    "from operator import itemgetter\n",
    "data = record_matrix.data\n",
    "row  = record_matrix.row\n",
    "col  = record_matrix.col\n",
    "rowindex = itemgetter(*row)(indexToFiled)\n",
    "colindex = itemgetter(*col)(indexToFiled)\n"
   ]
  },
  {
   "cell_type": "markdown",
   "metadata": {},
   "source": [
    "### 数据展示"
   ]
  },
  {
   "cell_type": "code",
   "execution_count": 43,
   "metadata": {},
   "outputs": [
    {
     "data": {
      "text/html": [
       "<div>\n",
       "<style>\n",
       "    .dataframe thead tr:only-child th {\n",
       "        text-align: right;\n",
       "    }\n",
       "\n",
       "    .dataframe thead th {\n",
       "        text-align: left;\n",
       "    }\n",
       "\n",
       "    .dataframe tbody tr th {\n",
       "        vertical-align: top;\n",
       "    }\n",
       "</style>\n",
       "<table border=\"1\" class=\"dataframe\">\n",
       "  <thead>\n",
       "    <tr style=\"text-align: right;\">\n",
       "      <th></th>\n",
       "      <th>data</th>\n",
       "      <th>row</th>\n",
       "      <th>col</th>\n",
       "      <th>colindex</th>\n",
       "      <th>rowindex</th>\n",
       "    </tr>\n",
       "  </thead>\n",
       "  <tbody>\n",
       "    <tr>\n",
       "      <th>0</th>\n",
       "      <td>127.0</td>\n",
       "      <td>1.0</td>\n",
       "      <td>4.0</td>\n",
       "      <td>2.0</td>\n",
       "      <td>1.0</td>\n",
       "    </tr>\n",
       "    <tr>\n",
       "      <th>1</th>\n",
       "      <td>127.0</td>\n",
       "      <td>1.0</td>\n",
       "      <td>9.0</td>\n",
       "      <td>3.0</td>\n",
       "      <td>1.0</td>\n",
       "    </tr>\n",
       "    <tr>\n",
       "      <th>2</th>\n",
       "      <td>127.0</td>\n",
       "      <td>1.0</td>\n",
       "      <td>14.0</td>\n",
       "      <td>4.0</td>\n",
       "      <td>1.0</td>\n",
       "    </tr>\n",
       "    <tr>\n",
       "      <th>3</th>\n",
       "      <td>1.0</td>\n",
       "      <td>4.0</td>\n",
       "      <td>9.0</td>\n",
       "      <td>3.0</td>\n",
       "      <td>2.0</td>\n",
       "    </tr>\n",
       "    <tr>\n",
       "      <th>4</th>\n",
       "      <td>1.0</td>\n",
       "      <td>4.0</td>\n",
       "      <td>14.0</td>\n",
       "      <td>4.0</td>\n",
       "      <td>2.0</td>\n",
       "    </tr>\n",
       "  </tbody>\n",
       "</table>\n",
       "</div>"
      ],
      "text/plain": [
       "    data  row   col  colindex  rowindex\n",
       "0  127.0  1.0   4.0       2.0       1.0\n",
       "1  127.0  1.0   9.0       3.0       1.0\n",
       "2  127.0  1.0  14.0       4.0       1.0\n",
       "3    1.0  4.0   9.0       3.0       2.0\n",
       "4    1.0  4.0  14.0       4.0       2.0"
      ]
     },
     "execution_count": 43,
     "metadata": {},
     "output_type": "execute_result"
    }
   ],
   "source": [
    "\n",
    "temp = pd.DataFrame([data,row,col,colindex,rowindex]).T\n",
    "temp.columns = [\"data\",\"row\",\"col\",\"colindex\",\"rowindex\"]\n",
    "temp.head()"
   ]
  },
  {
   "cell_type": "markdown",
   "metadata": {},
   "source": [
    "### 计算$\\phi$"
   ]
  },
  {
   "cell_type": "code",
   "execution_count": 44,
   "metadata": {},
   "outputs": [
    {
     "data": {
      "text/plain": [
       "\n",
       "[73.33]\n",
       "<NDArray 1 @cpu(0)>"
      ]
     },
     "execution_count": 44,
     "metadata": {},
     "output_type": "execute_result"
    }
   ],
   "source": [
    "### 从Wmtrix中调用涉及到的w值\n",
    "phi = (Wmatrix[:,rowindex,col] * Wmatrix[:,colindex,row] * nd.array(data)).sum()\n",
    "phi"
   ]
  },
  {
   "cell_type": "markdown",
   "metadata": {},
   "source": [
    "#### test auto grad"
   ]
  },
  {
   "cell_type": "markdown",
   "metadata": {},
   "source": [
    "$$ loss = \\min_{\\mathbf{w}} \\sum_{i=1}^L \\log \\big( 1 + \\exp\\{ -y_i \\phi (\\mathbf{w}, \\mathbf{x}_i ) \\} \\big) + \\frac{\\lambda}{2} \\| \\mathbf{w} \\|^2$$"
   ]
  },
  {
   "cell_type": "code",
   "execution_count": 46,
   "metadata": {},
   "outputs": [
    {
     "name": "stdout",
     "output_type": "stream",
     "text": [
      "\n",
      "[0.01]\n",
      "<NDArray 1 @cpu(0)>\n"
     ]
    },
    {
     "data": {
      "text/plain": [
       "\n",
       "[[[5.49e-04 5.93e-04 7.15e-04 8.44e-04 6.03e-04 8.58e-04 5.45e-04 8.47e-04 4.24e-04 6.24e-04 6.46e-04 3.84e-04 4.38e-04 2.98e-04 8.92e-04]\n",
       "  [5.67e-05 9.64e-04 2.73e-04 3.83e-04 4.78e-04 7.92e-04 8.12e-04 5.29e-04 4.80e-04 5.68e-04 3.93e-04 9.26e-04 8.36e-04 7.10e-05 3.37e-04]\n",
       "  [8.71e-05 6.48e-04 2.02e-05 3.68e-04 8.33e-04 9.57e-04 7.78e-04 1.40e-04 4.17e-04 9.97e-04 7.20e-04 9.33e-04 1.14e-07 1.28e-04 3.02e-04]\n",
       "  [9.99e-04 1.47e-04 2.36e-04 9.23e-05 3.97e-04 1.86e-04 3.88e-04 3.46e-04 6.70e-04 3.97e-04 9.36e-04 5.39e-04 8.46e-04 4.19e-04 3.13e-04]\n",
       "  [6.85e-04 5.25e-04 2.04e-04 4.43e-04 8.78e-04 2.30e-04 2.74e-05 5.34e-04 6.70e-04 9.14e-04 4.17e-04 4.57e-04 5.59e-04 4.31e-04 1.40e-04]]]\n",
       "<NDArray 1x5x15 @cpu(0)>"
      ]
     },
     "execution_count": 46,
     "metadata": {},
     "output_type": "execute_result"
    }
   ],
   "source": [
    "np.set_printoptions(precision=2,linewidth=200)\n",
    "lamda = 0.001\n",
    "y = target.loc[userNum]\n",
    "with ag.record():\n",
    "    phi = (Wmatrix[:,rowindex,col] * Wmatrix[:,colindex,row] * nd.array(data)).sum()\n",
    "    loss = nd.log(1+nd.exp(-y*phi)) + lamda*(Wmatrix*Wmatrix).sum()/2\n",
    "print(loss)\n",
    "loss.backward()\n",
    "Wmatrix.grad"
   ]
  },
  {
   "cell_type": "code",
   "execution_count": 47,
   "metadata": {},
   "outputs": [
    {
     "data": {
      "text/plain": [
       "1"
      ]
     },
     "execution_count": 47,
     "metadata": {},
     "output_type": "execute_result"
    }
   ],
   "source": [
    "y"
   ]
  },
  {
   "cell_type": "markdown",
   "metadata": {},
   "source": [
    "### SGD主流程"
   ]
  },
  {
   "cell_type": "code",
   "execution_count": 61,
   "metadata": {
    "code_folding": [
     9.0
    ]
   },
   "outputs": [
    {
     "ename": "MXNetError",
     "evalue": "[00:02:40] C:\\projects\\mxnet-distro-win\\mxnet-build\\src\\imperative\\imperative.cc:372: Check failed: !AGInfo::IsNone(*i) Cannot differentiate node because it is not in a computational graph. You need to set is_recording to true or use autograd.record() to save computational graphs for backward. If you want to differentiate the same graph twice, you need to pass retain_graph=True to backward.",
     "traceback": [
      "\u001b[1;31m---------------------------------------------------------------------------\u001b[0m",
      "\u001b[1;31mMXNetError\u001b[0m                                Traceback (most recent call last)",
      "\u001b[1;32m<ipython-input-61-5548c3a4ee79>\u001b[0m in \u001b[0;36m<module>\u001b[1;34m()\u001b[0m\n\u001b[0;32m     39\u001b[0m         \u001b[0mloss\u001b[0m \u001b[1;33m=\u001b[0m \u001b[0mnd\u001b[0m\u001b[1;33m.\u001b[0m\u001b[0mlog\u001b[0m\u001b[1;33m(\u001b[0m\u001b[1;36m1\u001b[0m\u001b[1;33m+\u001b[0m\u001b[0mnd\u001b[0m\u001b[1;33m.\u001b[0m\u001b[0mexp\u001b[0m\u001b[1;33m(\u001b[0m\u001b[1;33m-\u001b[0m\u001b[0mtarget\u001b[0m\u001b[1;33m.\u001b[0m\u001b[0mloc\u001b[0m\u001b[1;33m[\u001b[0m\u001b[0muserNum\u001b[0m\u001b[1;33m]\u001b[0m\u001b[1;33m*\u001b[0m\u001b[0mphi\u001b[0m\u001b[1;33m)\u001b[0m\u001b[1;33m)\u001b[0m \u001b[1;33m+\u001b[0m \u001b[0mlamda\u001b[0m\u001b[1;33m*\u001b[0m\u001b[1;33m(\u001b[0m\u001b[0mWmatrix\u001b[0m\u001b[1;33m*\u001b[0m\u001b[0mWmatrix\u001b[0m\u001b[1;33m)\u001b[0m\u001b[1;33m.\u001b[0m\u001b[0msum\u001b[0m\u001b[1;33m(\u001b[0m\u001b[1;33m)\u001b[0m\u001b[1;33m/\u001b[0m\u001b[1;36m2\u001b[0m\u001b[1;33m\u001b[0m\u001b[0m\n\u001b[0;32m     40\u001b[0m \u001b[1;33m\u001b[0m\u001b[0m\n\u001b[1;32m---> 41\u001b[1;33m     \u001b[0mloss\u001b[0m\u001b[1;33m.\u001b[0m\u001b[0mbackward\u001b[0m\u001b[1;33m(\u001b[0m\u001b[1;33m)\u001b[0m\u001b[1;33m\u001b[0m\u001b[0m\n\u001b[0m\u001b[0;32m     42\u001b[0m     \u001b[1;31m#Wmatrix = Wmatrix - learning_rate*Wmatrix.grad\u001b[0m\u001b[1;33m\u001b[0m\u001b[1;33m\u001b[0m\u001b[0m\n\u001b[0;32m     43\u001b[0m \u001b[1;33m\u001b[0m\u001b[0m\n",
      "\u001b[1;32m~\\Anaconda3\\envs\\gluon\\lib\\site-packages\\mxnet\\ndarray\\ndarray.py\u001b[0m in \u001b[0;36mbackward\u001b[1;34m(self, out_grad, retain_graph, train_mode)\u001b[0m\n\u001b[0;32m   2000\u001b[0m             \u001b[0mctypes\u001b[0m\u001b[1;33m.\u001b[0m\u001b[0mc_int\u001b[0m\u001b[1;33m(\u001b[0m\u001b[0mtrain_mode\u001b[0m\u001b[1;33m)\u001b[0m\u001b[1;33m,\u001b[0m\u001b[1;33m\u001b[0m\u001b[0m\n\u001b[0;32m   2001\u001b[0m             \u001b[0mctypes\u001b[0m\u001b[1;33m.\u001b[0m\u001b[0mc_void_p\u001b[0m\u001b[1;33m(\u001b[0m\u001b[1;36m0\u001b[0m\u001b[1;33m)\u001b[0m\u001b[1;33m,\u001b[0m\u001b[1;33m\u001b[0m\u001b[0m\n\u001b[1;32m-> 2002\u001b[1;33m             ctypes.c_void_p(0)))\n\u001b[0m\u001b[0;32m   2003\u001b[0m \u001b[1;33m\u001b[0m\u001b[0m\n\u001b[0;32m   2004\u001b[0m     \u001b[1;32mdef\u001b[0m \u001b[0mtostype\u001b[0m\u001b[1;33m(\u001b[0m\u001b[0mself\u001b[0m\u001b[1;33m,\u001b[0m \u001b[0mstype\u001b[0m\u001b[1;33m)\u001b[0m\u001b[1;33m:\u001b[0m\u001b[1;33m\u001b[0m\u001b[0m\n",
      "\u001b[1;32m~\\Anaconda3\\envs\\gluon\\lib\\site-packages\\mxnet\\base.py\u001b[0m in \u001b[0;36mcheck_call\u001b[1;34m(ret)\u001b[0m\n\u001b[0;32m    146\u001b[0m     \"\"\"\n\u001b[0;32m    147\u001b[0m     \u001b[1;32mif\u001b[0m \u001b[0mret\u001b[0m \u001b[1;33m!=\u001b[0m \u001b[1;36m0\u001b[0m\u001b[1;33m:\u001b[0m\u001b[1;33m\u001b[0m\u001b[0m\n\u001b[1;32m--> 148\u001b[1;33m         \u001b[1;32mraise\u001b[0m \u001b[0mMXNetError\u001b[0m\u001b[1;33m(\u001b[0m\u001b[0mpy_str\u001b[0m\u001b[1;33m(\u001b[0m\u001b[0m_LIB\u001b[0m\u001b[1;33m.\u001b[0m\u001b[0mMXGetLastError\u001b[0m\u001b[1;33m(\u001b[0m\u001b[1;33m)\u001b[0m\u001b[1;33m)\u001b[0m\u001b[1;33m)\u001b[0m\u001b[1;33m\u001b[0m\u001b[0m\n\u001b[0m\u001b[0;32m    149\u001b[0m \u001b[1;33m\u001b[0m\u001b[0m\n\u001b[0;32m    150\u001b[0m \u001b[1;33m\u001b[0m\u001b[0m\n",
      "\u001b[1;31mMXNetError\u001b[0m: [00:02:40] C:\\projects\\mxnet-distro-win\\mxnet-build\\src\\imperative\\imperative.cc:372: Check failed: !AGInfo::IsNone(*i) Cannot differentiate node because it is not in a computational graph. You need to set is_recording to true or use autograd.record() to save computational graphs for backward. If you want to differentiate the same graph twice, you need to pass retain_graph=True to backward."
     ],
     "output_type": "error"
    }
   ],
   "source": [
    "np.set_printoptions(precision=4,linewidth=100)\n",
    "# 生成交互矩阵\n",
    "# get three row each time\n",
    "from scipy.sparse import triu\n",
    "from scipy.sparse import vstack\n",
    "from operator import itemgetter\n",
    "from  numpy.random import shuffle\n",
    "\n",
    "\n",
    "def getPhi(userNum):\n",
    "    record = xdata_trnsf.iloc[userNum,:].to_frame().to_sparse()\n",
    "    record = csr_matrix(record.values)\n",
    "    record_matrix = record.dot(record.T)\n",
    "    record_matrix = triu(record_matrix,format='lil')\n",
    "    record_diag = range(record_matrix.shape[0])\n",
    "    record_matrix[record_diag,record_diag ]= 0\n",
    "    record_matrix = record_matrix.tocoo()\n",
    "\n",
    "    data = record_matrix.data\n",
    "    row  = record_matrix.row\n",
    "    col  = record_matrix.col\n",
    "    rowindex = itemgetter(*row)(indexToFiled)\n",
    "    colindex = itemgetter(*col)(indexToFiled)\n",
    "    phi = (Wmatrix[:,rowindex,col] * Wmatrix[:,colindex,row] * nd.array(data)).sum()\n",
    "    return phi\n",
    "\n",
    "\n",
    "\n",
    "\n",
    "learning_rate = 0.001\n",
    "lamda         = 0.001\n",
    "\n",
    "userList = list(range(xdata_trnsf.shape[0]))\n",
    "shuffle(userList)\n",
    "\n",
    "for userNum in userList:\n",
    "    with ag.record():\n",
    "        phi = getPhi(userNum)\n",
    "        loss = nd.log(1+nd.exp(-target.loc[userNum]*phi)) + lamda*(Wmatrix*Wmatrix).sum()/2\n",
    "    \n",
    "    loss.backward()\n",
    "    #Wmatrix = Wmatrix - learning_rate*Wmatrix.grad\n",
    "\n",
    "    \n",
    "# from scipy.sparse import triu\n",
    "# record_matrix = record.dot(record.T)\n",
    "# record_matrix = triu(record_matrix,format='lil')\n",
    "# record_diag = range(record_matrix.shape[0])\n",
    "# record_matrix[record_diag,record_diag ]= 0\n",
    "# record_matrix = record_matrix.tocoo()"
   ]
  },
  {
   "cell_type": "code",
   "execution_count": 67,
   "metadata": {},
   "outputs": [
    {
     "name": "stdout",
     "output_type": "stream",
     "text": [
      "\n",
      "[0.0128]\n",
      "<NDArray 1 @cpu(0)>\n"
     ]
    },
    {
     "ename": "MXNetError",
     "evalue": "[00:03:59] C:\\projects\\mxnet-distro-win\\mxnet-build\\src\\imperative\\imperative.cc:372: Check failed: !AGInfo::IsNone(*i) Cannot differentiate node because it is not in a computational graph. You need to set is_recording to true or use autograd.record() to save computational graphs for backward. If you want to differentiate the same graph twice, you need to pass retain_graph=True to backward.",
     "traceback": [
      "\u001b[1;31m---------------------------------------------------------------------------\u001b[0m",
      "\u001b[1;31mMXNetError\u001b[0m                                Traceback (most recent call last)",
      "\u001b[1;32m<ipython-input-67-4258ec88cedb>\u001b[0m in \u001b[0;36m<module>\u001b[1;34m()\u001b[0m\n\u001b[0;32m      4\u001b[0m     \u001b[0mloss\u001b[0m \u001b[1;33m=\u001b[0m \u001b[0mnd\u001b[0m\u001b[1;33m.\u001b[0m\u001b[0mlog\u001b[0m\u001b[1;33m(\u001b[0m\u001b[1;36m1\u001b[0m\u001b[1;33m+\u001b[0m\u001b[0mnd\u001b[0m\u001b[1;33m.\u001b[0m\u001b[0mexp\u001b[0m\u001b[1;33m(\u001b[0m\u001b[1;33m-\u001b[0m\u001b[0mtarget\u001b[0m\u001b[1;33m.\u001b[0m\u001b[0mloc\u001b[0m\u001b[1;33m[\u001b[0m\u001b[0muserNum\u001b[0m\u001b[1;33m]\u001b[0m\u001b[1;33m*\u001b[0m\u001b[0mphi\u001b[0m\u001b[1;33m)\u001b[0m\u001b[1;33m)\u001b[0m \u001b[1;33m+\u001b[0m \u001b[0mlamda\u001b[0m\u001b[1;33m*\u001b[0m\u001b[1;33m(\u001b[0m\u001b[0mWmatrix\u001b[0m\u001b[1;33m*\u001b[0m\u001b[0mWmatrix\u001b[0m\u001b[1;33m)\u001b[0m\u001b[1;33m.\u001b[0m\u001b[0msum\u001b[0m\u001b[1;33m(\u001b[0m\u001b[1;33m)\u001b[0m\u001b[1;33m/\u001b[0m\u001b[1;36m2\u001b[0m\u001b[1;33m\u001b[0m\u001b[0m\n\u001b[0;32m      5\u001b[0m \u001b[0mprint\u001b[0m\u001b[1;33m(\u001b[0m\u001b[0mloss\u001b[0m\u001b[1;33m)\u001b[0m\u001b[1;33m\u001b[0m\u001b[0m\n\u001b[1;32m----> 6\u001b[1;33m \u001b[0mloss\u001b[0m\u001b[1;33m.\u001b[0m\u001b[0mbackward\u001b[0m\u001b[1;33m(\u001b[0m\u001b[1;33m)\u001b[0m\u001b[1;33m\u001b[0m\u001b[0m\n\u001b[0m",
      "\u001b[1;32m~\\Anaconda3\\envs\\gluon\\lib\\site-packages\\mxnet\\ndarray\\ndarray.py\u001b[0m in \u001b[0;36mbackward\u001b[1;34m(self, out_grad, retain_graph, train_mode)\u001b[0m\n\u001b[0;32m   2000\u001b[0m             \u001b[0mctypes\u001b[0m\u001b[1;33m.\u001b[0m\u001b[0mc_int\u001b[0m\u001b[1;33m(\u001b[0m\u001b[0mtrain_mode\u001b[0m\u001b[1;33m)\u001b[0m\u001b[1;33m,\u001b[0m\u001b[1;33m\u001b[0m\u001b[0m\n\u001b[0;32m   2001\u001b[0m             \u001b[0mctypes\u001b[0m\u001b[1;33m.\u001b[0m\u001b[0mc_void_p\u001b[0m\u001b[1;33m(\u001b[0m\u001b[1;36m0\u001b[0m\u001b[1;33m)\u001b[0m\u001b[1;33m,\u001b[0m\u001b[1;33m\u001b[0m\u001b[0m\n\u001b[1;32m-> 2002\u001b[1;33m             ctypes.c_void_p(0)))\n\u001b[0m\u001b[0;32m   2003\u001b[0m \u001b[1;33m\u001b[0m\u001b[0m\n\u001b[0;32m   2004\u001b[0m     \u001b[1;32mdef\u001b[0m \u001b[0mtostype\u001b[0m\u001b[1;33m(\u001b[0m\u001b[0mself\u001b[0m\u001b[1;33m,\u001b[0m \u001b[0mstype\u001b[0m\u001b[1;33m)\u001b[0m\u001b[1;33m:\u001b[0m\u001b[1;33m\u001b[0m\u001b[0m\n",
      "\u001b[1;32m~\\Anaconda3\\envs\\gluon\\lib\\site-packages\\mxnet\\base.py\u001b[0m in \u001b[0;36mcheck_call\u001b[1;34m(ret)\u001b[0m\n\u001b[0;32m    146\u001b[0m     \"\"\"\n\u001b[0;32m    147\u001b[0m     \u001b[1;32mif\u001b[0m \u001b[0mret\u001b[0m \u001b[1;33m!=\u001b[0m \u001b[1;36m0\u001b[0m\u001b[1;33m:\u001b[0m\u001b[1;33m\u001b[0m\u001b[0m\n\u001b[1;32m--> 148\u001b[1;33m         \u001b[1;32mraise\u001b[0m \u001b[0mMXNetError\u001b[0m\u001b[1;33m(\u001b[0m\u001b[0mpy_str\u001b[0m\u001b[1;33m(\u001b[0m\u001b[0m_LIB\u001b[0m\u001b[1;33m.\u001b[0m\u001b[0mMXGetLastError\u001b[0m\u001b[1;33m(\u001b[0m\u001b[1;33m)\u001b[0m\u001b[1;33m)\u001b[0m\u001b[1;33m)\u001b[0m\u001b[1;33m\u001b[0m\u001b[0m\n\u001b[0m\u001b[0;32m    149\u001b[0m \u001b[1;33m\u001b[0m\u001b[0m\n\u001b[0;32m    150\u001b[0m \u001b[1;33m\u001b[0m\u001b[0m\n",
      "\u001b[1;31mMXNetError\u001b[0m: [00:03:59] C:\\projects\\mxnet-distro-win\\mxnet-build\\src\\imperative\\imperative.cc:372: Check failed: !AGInfo::IsNone(*i) Cannot differentiate node because it is not in a computational graph. You need to set is_recording to true or use autograd.record() to save computational graphs for backward. If you want to differentiate the same graph twice, you need to pass retain_graph=True to backward."
     ],
     "output_type": "error"
    }
   ],
   "source": [
    "userNum = 0\n",
    "with ag.record():\n",
    "    phi = getPhi(userNum)\n",
    "    loss = nd.log(1+nd.exp(-target.loc[userNum]*phi)) + lamda*(Wmatrix*Wmatrix).sum()/2\n",
    "\n"
   ]
  },
  {
   "cell_type": "code",
   "execution_count": 64,
   "metadata": {},
   "outputs": [
    {
     "data": {
      "text/plain": [
       "\n",
       "[[[5.4881e-01 5.9284e-01 7.1519e-01 8.4426e-01 6.0276e-01 8.5794e-01 5.4488e-01 8.4725e-01\n",
       "   4.2365e-01 6.2356e-01 6.4589e-01 3.8438e-01 4.3759e-01 2.9753e-01 8.9177e-01]\n",
       "  [5.6713e-02 9.6366e-01 2.7266e-01 3.8344e-01 4.7766e-01 7.9172e-01 8.1217e-01 5.2889e-01\n",
       "   4.7998e-01 5.6804e-01 3.9278e-01 9.2560e-01 8.3608e-01 7.1036e-02 3.3740e-01]\n",
       "  [8.7129e-02 6.4817e-01 2.0218e-02 3.6824e-01 8.3262e-01 9.5715e-01 7.7816e-01 1.4035e-01\n",
       "   4.1702e-01 9.9718e-01 7.2032e-01 9.3256e-01 1.1438e-04 1.2812e-01 3.0233e-01]\n",
       "  [9.9904e-01 1.4676e-01 2.3609e-01 9.2339e-02 3.9658e-01 1.8626e-01 3.8791e-01 3.4556e-01\n",
       "   6.6975e-01 3.9677e-01 9.3554e-01 5.3882e-01 8.4631e-01 4.1919e-01 3.1327e-01]\n",
       "  [6.8522e-01 5.2455e-01 2.0445e-01 4.4345e-01 8.7812e-01 2.2958e-01 2.7388e-02 5.3441e-01\n",
       "   6.7047e-01 9.1396e-01 4.1730e-01 4.5720e-01 5.5869e-01 4.3070e-01 1.4039e-01]]]\n",
       "<NDArray 1x5x15 @cpu(0)>"
      ]
     },
     "execution_count": 64,
     "metadata": {},
     "output_type": "execute_result"
    }
   ],
   "source": [
    "Wmatrix"
   ]
  },
  {
   "cell_type": "code",
   "execution_count": null,
   "metadata": {
    "collapsed": true
   },
   "outputs": [],
   "source": []
  }
 ],
 "metadata": {
  "kernelspec": {
   "display_name": "Python 3",
   "language": "python",
   "name": "python3"
  },
  "language_info": {
   "codemirror_mode": {
    "name": "ipython",
    "version": 3
   },
   "file_extension": ".py",
   "mimetype": "text/x-python",
   "name": "python",
   "nbconvert_exporter": "python",
   "pygments_lexer": "ipython3",
   "version": "3.6.2"
  }
 },
 "nbformat": 4,
 "nbformat_minor": 2
}
